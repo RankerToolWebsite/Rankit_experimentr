{
 "cells": [
  {
   "cell_type": "code",
   "execution_count": 37,
   "metadata": {
    "collapsed": true
   },
   "outputs": [],
   "source": [
    "import pandas as pd\n",
    "import numpy as np\n",
    "import matplotlib\n",
    "import matplotlib.pyplot as plt\n",
    "import seaborn as sns\n",
    "from sklearn.utils import resample\n",
    "%matplotlib inline"
   ]
  },
  {
   "cell_type": "markdown",
   "metadata": {
    "collapsed": true
   },
   "source": [
    "### Load data (pre-processed in clean.ipynb) and define useful constants"
   ]
  },
  {
   "cell_type": "code",
   "execution_count": 38,
   "metadata": {
    "collapsed": true
   },
   "outputs": [],
   "source": [
    "# load data\n",
    "res = pd.read_csv(\"results/results_cleaned.csv\")\n",
    "\n",
    "# required fields\n",
    "ids = ['timestamp','postId','workerId','mode']\n",
    "\n",
    "# interactions\n",
    "inter = ['timestamp','postId','workerId','mode','interaction','UrlChanges', 'highUrlChanges', \n",
    "       'lowUrlChanges', 'medUrlChanges', 'model', 'pop_time']\n",
    "\n",
    "modes = [\"List\", \"Category\", \"Pairwise\"]"
   ]
  },
  {
   "cell_type": "code",
   "execution_count": 39,
   "metadata": {
    "collapsed": true
   },
   "outputs": [],
   "source": [
    "# compute bootstrapped confidence interval\n",
    "def bootstrap_mean(data, n_bootstraps):\n",
    "    bootstraps = []\n",
    "    for i in range(n_bootstraps):\n",
    "        # Sample with replacement from data\n",
    "        bootstraps.append(resample(data).mean())\n",
    "    return pd.Series(bootstraps)"
   ]
  },
  {
   "cell_type": "code",
   "execution_count": 40,
   "metadata": {
    "collapsed": true
   },
   "outputs": [],
   "source": [
    "# # should we change the interactions to just be add remove? \n",
    "# # can tell by url if high low etc\n",
    "\n",
    "# res.replace(to_replace=['ADD', 'HIGH ADD', 'LOW ADD', 'LEFT ADD', 'RIGHT ADD'], value ='ADD', inplace=True)\n",
    "# res.replace(to_replace=['REMOVE', 'HIGH REMOVE', 'LOW REMOVE', 'LEFT REMOVE', 'RIGHT REMOVE'], value ='REMOVE', inplace=True)"
   ]
  },
  {
   "cell_type": "code",
   "execution_count": 41,
   "metadata": {
    "collapsed": true
   },
   "outputs": [],
   "source": [
    "inter_l = ['timestamp','workerId','mode','interaction','UrlChanges'] \n",
    "inter_c = ['timestamp','workerId','mode','interaction','highUrlChanges', 'lowUrlChanges', 'medUrlChanges']\n",
    "inter_p = ['timestamp','workerId','mode','interaction','highUrlChanges', 'lowUrlChanges']\n",
    "\n",
    "ints = {}\n",
    "ints['l'] = res[inter_l][res['mode']=='List'].drop_duplicates(subset=['workerId','interaction','UrlChanges'])\n",
    "ints['c'] = res[inter_c][res['mode']=='Category'].drop_duplicates(subset=['workerId','interaction','highUrlChanges', \n",
    "                                                                'lowUrlChanges', 'medUrlChanges'])\n",
    "ints['p'] = res[inter_p][res['mode']=='Pairwise'].drop_duplicates(subset=['workerId','interaction','highUrlChanges', \n",
    "                                                                'lowUrlChanges'])"
   ]
  },
  {
   "cell_type": "code",
   "execution_count": 42,
   "metadata": {
    "collapsed": true
   },
   "outputs": [],
   "source": [
    "adds={}\n",
    "removes={}\n",
    "ranks = {}\n",
    "for i in ints:\n",
    "    ints[i] = ints[i].groupby(['workerId']).apply(pd.DataFrame.sort_values, 'timestamp')\n",
    "    ints[i] = ints[i].reset_index(drop=True)\n",
    "    ints[i].dropna(subset =['interaction'])"
   ]
  },
  {
   "cell_type": "code",
   "execution_count": 43,
   "metadata": {
    "collapsed": true
   },
   "outputs": [],
   "source": [
    "adds = {}\n",
    "adds['List'] = ints['l'][ints['l']['interaction'] == 'ADD'].groupby('workerId').count()['interaction']\n",
    "adds['Category'] = ints['c'][ints['c']['interaction'].isin(['LOW ADD', 'HIGH ADD', 'MED ADD'])].groupby('workerId').count()['interaction']\n",
    "adds['Pairwise'] = ints['p'][ints['p']['interaction'].isin(['LEFT ADD', 'RIGHT ADD'])].groupby('workerId').count()['interaction']\n",
    "\n",
    "removes = {}\n",
    "removes['List'] = ints['l'][ints['l']['interaction'] == 'REMOVE'].groupby('workerId').count()['interaction']\n",
    "removes['Category'] = ints['c'][ints['c']['interaction'].isin(['LOW REMOVE', 'HIGH REMOVE', 'MED REMOVE'])].groupby('workerId').count()['interaction']\n",
    "removes['Pairwise'] = ints['p'][ints['p']['interaction'].isin(['LEFT REMOVE', 'RIGHT REMOVE'])].groupby('workerId').count()['interaction']"
   ]
  },
  {
   "cell_type": "code",
   "execution_count": 44,
   "metadata": {},
   "outputs": [
    {
     "data": {
      "image/png": "[encoded data removed]",
      "text/plain": [
       "<matplotlib.figure.Figure at 0xc8c9197dd8>"
      ]
     },
     "metadata": {},
     "output_type": "display_data"
    }
   ],
   "source": [
    "boot = pd.DataFrame()\n",
    "for m in modes:\n",
    "    boot[m] = bootstrap_mean(removes[m], 1000)\n",
    "    \n",
    "mean = boot.mean()\n",
    "err = []\n",
    "err.append((boot.apply(lambda x : np.percentile(x, (5))) - mean).abs())\n",
    "err.append(boot.apply(lambda x : np.percentile(x, (95))) - mean)\n",
    "plt.errorbar(mean, [0,1,2], xerr=err, fmt='o-',linestyle='none', ecolor=['red','blue','green'])\n",
    "plt.yticks([0,1,2], mean.index)\n",
    "plt.title('Average number of colleges removed')\n",
    "# plt.show()\n",
    "plt.savefig('results/remove.png')"
   ]
  },
  {
   "cell_type": "code",
   "execution_count": 51,
   "metadata": {},
   "outputs": [
    {
     "data": {
      "text/plain": [
       "[List        1.764692\n",
       " Category    5.926917\n",
       " Pairwise    5.537600\n",
       " dtype: float64, List        1.696846\n",
       " Category    6.831417\n",
       " Pairwise    5.462400\n",
       " dtype: float64]"
      ]
     },
     "execution_count": 51,
     "metadata": {},
     "output_type": "execute_result"
    },
    {
     "data": {
      "image/png": "[encoded data removed]",
      "text/plain": [
       "<matplotlib.figure.Figure at 0xc8c91cf828>"
      ]
     },
     "metadata": {},
     "output_type": "display_data"
    }
   ],
   "source": [
    "# use percentiles\n",
    "\n",
    "boot = pd.DataFrame()\n",
    "for m in modes:\n",
    "    boot[m] = bootstrap_mean(adds[m], 1000)\n",
    "mean = boot.mean()\n",
    "err = []\n",
    "err.append((boot.apply(lambda x : np.percentile(x, (5))) - mean).abs())\n",
    "err.append(boot.apply(lambda x : np.percentile(x, (95))) - mean)\n",
    "plt.errorbar(mean, [0,1,2], xerr=err, fmt='o-',linestyle='none', ecolor=['red','blue','green'])\n",
    "plt.yticks([0,1,2], mean.index)\n",
    "plt.title('Average number of colleges added')\n",
    "# plt.show()\n",
    "plt.savefig('results/add.png')\n",
    "err"
   ]
  }
 ],
 "metadata": {
  "anaconda-cloud": {},
  "kernelspec": {
   "display_name": "Python 3",
   "language": "python",
   "name": "python3"
  },
  "language_info": {
   "codemirror_mode": {
    "name": "ipython",
    "version": 3
   },
   "file_extension": ".py",
   "mimetype": "text/x-python",
   "name": "python",
   "nbconvert_exporter": "python",
   "pygments_lexer": "ipython3",
   "version": "3.6.3"
  }
 },
 "nbformat": 4,
 "nbformat_minor": 2
}
