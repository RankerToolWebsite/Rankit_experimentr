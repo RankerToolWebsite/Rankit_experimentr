{
 "cells": [
  {
   "cell_type": "code",
   "execution_count": 17,
   "metadata": {
    "collapsed": true
   },
   "outputs": [],
   "source": [
    "import pandas as pd\n",
    "import numpy as np\n",
    "import matplotlib\n",
    "import matplotlib.pyplot as plt\n",
    "import seaborn as sns\n",
    "from sklearn.utils import resample\n",
    "%matplotlib inline"
   ]
  },
  {
   "cell_type": "markdown",
   "metadata": {
    "collapsed": true
   },
   "source": [
    "### Load data (pre-processed in clean.ipynb) and define useful constants"
   ]
  },
  {
   "cell_type": "code",
   "execution_count": 18,
   "metadata": {
    "collapsed": true
   },
   "outputs": [],
   "source": [
    "# load data\n",
    "# res = pd.read_csv(\"results/results_cleaned.csv\")\n",
    "res = pd.read_csv(\"results/results_cleaned_no_outliers.csv\")\n",
    "\n",
    "# required fields\n",
    "ids = ['timestamp','postId','workerId','mode']\n",
    "\n",
    "# interactions\n",
    "inter = ['timestamp','postId','workerId','mode','interaction','UrlChanges', 'highUrlChanges', \n",
    "       'lowUrlChanges', 'medUrlChanges', 'model', 'pop_time']\n",
    "\n",
    "modes = [\"List\", \"Category\", \"Pairwise\"]"
   ]
  },
  {
   "cell_type": "code",
   "execution_count": 19,
   "metadata": {
    "collapsed": true
   },
   "outputs": [],
   "source": [
    "# compute bootstrapped confidence interval\n",
    "def bootstrap_mean(data, n_bootstraps):\n",
    "    bootstraps = []\n",
    "    for i in range(n_bootstraps):\n",
    "        # Sample with replacement from data\n",
    "        bootstraps.append(resample(data).mean())\n",
    "    return pd.Series(bootstraps)"
   ]
  },
  {
   "cell_type": "code",
   "execution_count": 20,
   "metadata": {
    "collapsed": true
   },
   "outputs": [],
   "source": [
    "inter_l = ['timestamp','workerId','mode','interaction','UrlChanges'] \n",
    "inter_c = ['timestamp','workerId','mode','interaction','highUrlChanges', 'lowUrlChanges', 'medUrlChanges']\n",
    "inter_p = ['timestamp','workerId','mode','interaction','highUrlChanges', 'lowUrlChanges']\n",
    "\n",
    "ints = {}\n",
    "ints['l'] = res[inter_l][res['mode']=='List'].drop_duplicates(subset=['workerId','interaction','UrlChanges'])\n",
    "ints['c'] = res[inter_c][res['mode']=='Category'].drop_duplicates(subset=['workerId','interaction','highUrlChanges', \n",
    "                                                                'lowUrlChanges', 'medUrlChanges'])\n",
    "ints['p'] = res[inter_p][res['mode']=='Pairwise'].drop_duplicates(subset=['workerId','interaction','highUrlChanges', \n",
    "                                                                'lowUrlChanges'])\n",
    "\n",
    "adds={}\n",
    "removes={}\n",
    "ranks = {}\n",
    "for i in ints:\n",
    "    ints[i] = ints[i].groupby(['workerId']).apply(pd.DataFrame.sort_values, 'timestamp')\n",
    "    ints[i] = ints[i].reset_index(drop=True)\n",
    "    ints[i].dropna(subset =['interaction'])\n",
    "    \n",
    "adds = {}\n",
    "adds['List'] = ints['l'][ints['l']['interaction'] == 'ADD'].groupby('workerId').count()['interaction']\n",
    "adds['Category'] = ints['c'][ints['c']['interaction'].isin(['LOW ADD', 'HIGH ADD', 'MED ADD'])].groupby('workerId').count()['interaction']\n",
    "adds['Pairwise'] = ints['p'][ints['p']['interaction'].isin(['LEFT ADD', 'RIGHT ADD'])].groupby('workerId').count()['interaction']\n",
    "\n",
    "removes = {}\n",
    "removes['List'] = ints['l'][ints['l']['interaction'] == 'REMOVE'].groupby('workerId').count()['interaction']\n",
    "removes['Category'] = ints['c'][ints['c']['interaction'].isin(['LOW REMOVE', 'HIGH REMOVE', 'MED REMOVE'])].groupby('workerId').count()['interaction']\n",
    "removes['Pairwise'] = ints['p'][ints['p']['interaction'].isin(['LEFT REMOVE', 'RIGHT REMOVE'])].groupby('workerId').count()['interaction']"
   ]
  },
  {
   "cell_type": "code",
   "execution_count": 21,
   "metadata": {
    "collapsed": true
   },
   "outputs": [],
   "source": [
    "adds={}\n",
    "removes={}\n",
    "ranks = {}\n",
    "for i in ints:\n",
    "    ints[i] = ints[i].groupby(['workerId']).apply(pd.DataFrame.sort_values, 'timestamp')\n",
    "    ints[i] = ints[i].reset_index(drop=True)\n",
    "    ints[i].dropna(subset =['interaction'])"
   ]
  },
  {
   "cell_type": "code",
   "execution_count": 22,
   "metadata": {
    "collapsed": true
   },
   "outputs": [],
   "source": [
    "adds = {}\n",
    "adds['List'] = ints['l'][ints['l']['interaction'] == 'ADD'].groupby('workerId').count()['interaction']\n",
    "adds['Category'] = ints['c'][ints['c']['interaction'].isin(['LOW ADD', 'HIGH ADD', 'MED ADD'])].groupby('workerId').count()['interaction']\n",
    "adds['Pairwise'] = ints['p'][ints['p']['interaction'].isin(['LEFT ADD', 'RIGHT ADD'])].groupby('workerId').count()['interaction']\n",
    "\n",
    "removes = {}\n",
    "removes['List'] = ints['l'][ints['l']['interaction'] == 'REMOVE'].groupby('workerId').count()['interaction']\n",
    "removes['Category'] = ints['c'][ints['c']['interaction'].isin(['LOW REMOVE', 'HIGH REMOVE', 'MED REMOVE'])].groupby('workerId').count()['interaction']\n",
    "removes['Pairwise'] = ints['p'][ints['p']['interaction'].isin(['LEFT REMOVE', 'RIGHT REMOVE'])].groupby('workerId').count()['interaction']"
   ]
  },
  {
   "cell_type": "code",
   "execution_count": 23,
   "metadata": {},
   "outputs": [
    {
     "data": {
      "text/plain": [
       "workerId\n",
       "A11BSFO4LMHPXQ     12\n",
       "A126IMAJ4EEE7      26\n",
       "A15SUPIZ05ZFCD     41\n",
       "A17V85U8PXS4LJ     56\n",
       "A196XR61DIW5GU     12\n",
       "A1FLEFIVFT809G     85\n",
       "A1HG89IPHXW7LO      4\n",
       "A1JGA15NKUP0BB      3\n",
       "A1KM8AW99FFRFZ      9\n",
       "A1N1EF0MIRSEZZ     71\n",
       "A1NBX7UHTU5CKG     48\n",
       "A1PF01FF85HUY4     16\n",
       "A1PTX4IB9R34LI      3\n",
       "A1TARNH07A75CG     22\n",
       "A1TYP11M6YZUK8    254\n",
       "A1XZ9MUNKFZIJG    132\n",
       "A1Z3NTRGIUZ240      4\n",
       "A28T38MOUG43YD     12\n",
       "A2BADLL5Q78E7D    231\n",
       "A2BF3A9KYSEFPO     53\n",
       "A2CIFCKECOSW0S    313\n",
       "A2HX72NU82J6NZ      9\n",
       "A2NGMLBFZ3YQP5     38\n",
       "A2OFWFHVQOBY56     10\n",
       "A2T5UVJCDX3C5      10\n",
       "A2W6XZ8D8VYZCO     33\n",
       "A3696JXTRKL2FI     12\n",
       "A39K5MR4MCSC56    325\n",
       "A3DLPY6ABKCXSI     15\n",
       "A3J5KTBHZI60H     233\n",
       "A3JAOT764X4HYB     14\n",
       "A3ROADR7T6811      26\n",
       "A3TOHZTNKOTFQL     13\n",
       "A3TUCOUVSP9ZGY      6\n",
       "A3TUJHF9LW3M8N     12\n",
       "A5BMKZRGHNSRT     354\n",
       "AFXNF8FWT090W       9\n",
       "ANPTDUX6LOGYY     249\n",
       "Name: interaction, dtype: int64"
      ]
     },
     "execution_count": 23,
     "metadata": {},
     "output_type": "execute_result"
    }
   ],
   "source": [
    "adds['Category']"
   ]
  },
  {
   "cell_type": "code",
   "execution_count": 24,
   "metadata": {},
   "outputs": [
    {
     "data": {
      "text/plain": [
       "workerId\n",
       "A11BSFO4LMHPXQ     1\n",
       "A126IMAJ4EEE7      9\n",
       "A15SUPIZ05ZFCD     6\n",
       "A17V85U8PXS4LJ     8\n",
       "A196XR61DIW5GU     3\n",
       "A1FLEFIVFT809G     8\n",
       "A1HG89IPHXW7LO     1\n",
       "A1KM8AW99FFRFZ     4\n",
       "A1N1EF0MIRSEZZ    11\n",
       "A1NBX7UHTU5CKG     5\n",
       "A1PF01FF85HUY4     3\n",
       "A1TARNH07A75CG     5\n",
       "A1TYP11M6YZUK8    29\n",
       "A1XZ9MUNKFZIJG    16\n",
       "A1Z3NTRGIUZ240     1\n",
       "A28T38MOUG43YD     2\n",
       "A2BADLL5Q78E7D     1\n",
       "A2BF3A9KYSEFPO    16\n",
       "A2CIFCKECOSW0S    79\n",
       "A2HX72NU82J6NZ     1\n",
       "A2NGMLBFZ3YQP5     2\n",
       "A2OFWFHVQOBY56     3\n",
       "A2T5UVJCDX3C5      2\n",
       "A2W6XZ8D8VYZCO     6\n",
       "A3696JXTRKL2FI     2\n",
       "A39K5MR4MCSC56    90\n",
       "A3DLPY6ABKCXSI     1\n",
       "A3J5KTBHZI60H      3\n",
       "A3ROADR7T6811      6\n",
       "A3TOHZTNKOTFQL     4\n",
       "A3TUCOUVSP9ZGY     1\n",
       "A3TUJHF9LW3M8N     3\n",
       "A5BMKZRGHNSRT     84\n",
       "AFXNF8FWT090W      5\n",
       "ANPTDUX6LOGYY     31\n",
       "Name: interaction, dtype: int64"
      ]
     },
     "execution_count": 24,
     "metadata": {},
     "output_type": "execute_result"
    }
   ],
   "source": [
    "removes['Category']"
   ]
  },
  {
   "cell_type": "code",
   "execution_count": 25,
   "metadata": {},
   "outputs": [
    {
     "data": {
      "text/plain": [
       "workerId\n",
       "A13HZKB2NGZP6B      5\n",
       "A14WLAP6TCEKO0      8\n",
       "A16YCBEW9H2GVQ     14\n",
       "A1BXFL13FNC4JZ     11\n",
       "A1CY7IOJ9YH136     11\n",
       "A1DQAWWURWP4FZ      2\n",
       "A1DS5O8MSI3ZH0      7\n",
       "A1F1BIPJR11LSR     12\n",
       "A1IJ86B8ZRKXBI      2\n",
       "A1KEAHVVML6319     14\n",
       "A1KNQOTRLV1DLV     28\n",
       "A1L82EA5PNL5RO    243\n",
       "A1XATJA7ENOGWB     13\n",
       "A1ZKNQJO513B3W     11\n",
       "A206HSNUW6LHQK     38\n",
       "A20J7F7PKEZZV2      7\n",
       "A20Z5O57UDPFLX      7\n",
       "A23CR631VMJ5DI      3\n",
       "A25FLQSIB09JW2     51\n",
       "A2C84POENS2UNY      8\n",
       "A2E5PZUD6W4OA1     10\n",
       "A2FUPODRRCESB      13\n",
       "A2G4G3QXFP4WSZ      5\n",
       "A2JLTIRIJ1V8UP     11\n",
       "A2M6TJIR21BN2W     11\n",
       "A2NX3S99EUKJFF      5\n",
       "A2T11H7YI7QPGD      5\n",
       "A2ZV96GRXVSXK4      6\n",
       "A31GBEJ7KZKFSK      7\n",
       "A39Q4SNT7SRK94     13\n",
       "A3E52NQFBDRD87     15\n",
       "A3L8LSM7V7KX3T     14\n",
       "A3LC6M2EMDBBXP      5\n",
       "A3RBA581BHJDR8    127\n",
       "A3VDV5S42JSDCP     15\n",
       "A3VENK02U0X16N     15\n",
       "A9ZCY6FLUCIU1      10\n",
       "ACON9O9NMFOHE      11\n",
       "AEN7H01OU26XL      11\n",
       "AGC3T6724JUAF      12\n",
       "AKNYT1NTK2UFK      13\n",
       "AM8OWAW9TUVLN       6\n",
       "ATOV0H5KQHI29      13\n",
       "AUCHGHY1IKZZK       8\n",
       "AV7UX8QQXABSK       8\n",
       "AVC1PLLFS210S       4\n",
       "AXT49VCFZDGW8      17\n",
       "AXUNP4MWN9K8P       8\n",
       "Name: interaction, dtype: int64"
      ]
     },
     "execution_count": 25,
     "metadata": {},
     "output_type": "execute_result"
    }
   ],
   "source": [
    "adds['List']"
   ]
  },
  {
   "cell_type": "code",
   "execution_count": 26,
   "metadata": {},
   "outputs": [
    {
     "data": {
      "text/plain": [
       "workerId\n",
       "A16SAB417Y96G4     2\n",
       "A19DZAFFZEU6GN    16\n",
       "A1GKD3NG1NNHRP    17\n",
       "A271V19C06841K     6\n",
       "A2ATUQ491PEC7L     4\n",
       "A2C7TMRC2QHTIW     9\n",
       "A2CISHIOILFDHN    29\n",
       "A2M5VW97GIYLHB    31\n",
       "A3EG4C9T4F5DUR    26\n",
       "A3H3NJ23IM4XUZ     2\n",
       "A3TCVXCMU6MTPB    20\n",
       "AM2KK02JXXW48     12\n",
       "AO33H4GL9KZX9     15\n",
       "ARIMQAMYUB6TH     17\n",
       "AUFEIF3EGRO2C      8\n",
       "Name: interaction, dtype: int64"
      ]
     },
     "execution_count": 26,
     "metadata": {},
     "output_type": "execute_result"
    }
   ],
   "source": [
    "adds['Pairwise']"
   ]
  },
  {
   "cell_type": "code",
   "execution_count": 27,
   "metadata": {},
   "outputs": [
    {
     "data": {
      "image/png": "[encoded data removed]",
      "text/plain": [
       "<matplotlib.figure.Figure at 0xbf4919b400>"
      ]
     },
     "metadata": {},
     "output_type": "display_data"
    }
   ],
   "source": [
    "boot = pd.DataFrame()\n",
    "for m in modes:\n",
    "    boot[m] = bootstrap_mean(removes[m], 1000)\n",
    "    \n",
    "mean = boot.mean()\n",
    "err = []\n",
    "err.append((boot.apply(lambda x : np.percentile(x, (5))) - mean).abs())\n",
    "err.append(boot.apply(lambda x : np.percentile(x, (95))) - mean)\n",
    "plt.errorbar(mean, [0,1,2], xerr=err, fmt='o-',linestyle='none', ecolor=['red','blue','green'], elinewidth=3, markersize=7 )\n",
    "plt.yticks([0,1,2], mean.index, size='large')\n",
    "plt.title('Average number of colleges removed', size='x-large')\n",
    "# plt.show()\n",
    "plt.savefig('results/remove.png', bbox_inches='tight')"
   ]
  },
  {
   "cell_type": "code",
   "execution_count": 29,
   "metadata": {},
   "outputs": [
    {
     "data": {
      "image/png": "[encoded data removed]",
      "text/plain": [
       "<matplotlib.figure.Figure at 0xbf4dc0c9b0>"
      ]
     },
     "metadata": {},
     "output_type": "display_data"
    }
   ],
   "source": [
    "# use percentiles\n",
    "\n",
    "boot = pd.DataFrame()\n",
    "for m in modes:\n",
    "    boot[m] = bootstrap_mean(adds[m], 1000)\n",
    "mean = boot.mean()\n",
    "err = []\n",
    "err.append((boot.apply(lambda x : np.percentile(x, (5))) - mean).abs())\n",
    "err.append(boot.apply(lambda x : np.percentile(x, (95))) - mean)\n",
    "plt.errorbar(mean, [0,1,2], xerr=err, fmt='o-',linestyle='none', ecolor=['red','blue','green'], elinewidth=3, markersize=7 )\n",
    "plt.yticks([0,1,2], mean.index, size='large')\n",
    "plt.title('Average number of colleges added', size='x-large')\n",
    "# plt.show()\n",
    "plt.savefig('results/add.png', bbox_inches='tight')"
   ]
  },
  {
   "cell_type": "code",
   "execution_count": null,
   "metadata": {
    "collapsed": true
   },
   "outputs": [],
   "source": []
  },
  {
   "cell_type": "code",
   "execution_count": 30,
   "metadata": {},
   "outputs": [
    {
     "data": {
      "text/plain": [
       "array(['QUESTION', 'HIGH ADD', 'LOW ADD', 'ADD', nan, 'SUBMIT SUCCESFUL',\n",
       "       'MED ADD', 'MED REMOVE', 'RANK', 'LOW REMOVE', 'PREVIOUS',\n",
       "       'RIGHT ADD', 'RIGHT REMOVE', 'FINISH TEST', 'LEFT ADD',\n",
       "       'HIGH REMOVE', 'NEW PAIR', 'SHUFFLE', 'REMOVE', 'SUBMIT FAIL',\n",
       "       'SORT', 'FINISH', 'LEFT REMOVE'], dtype=object)"
      ]
     },
     "execution_count": 30,
     "metadata": {},
     "output_type": "execute_result"
    }
   ],
   "source": [
    "# count number of time switching between build and explore\n",
    "res['interaction'].unique()"
   ]
  },
  {
   "cell_type": "code",
   "execution_count": null,
   "metadata": {
    "collapsed": true
   },
   "outputs": [],
   "source": []
  },
  {
   "cell_type": "code",
   "execution_count": 31,
   "metadata": {},
   "outputs": [
    {
     "data": {
      "text/html": [
       "<div>\n",
       "<style>\n",
       "    .dataframe thead tr:only-child th {\n",
       "        text-align: right;\n",
       "    }\n",
       "\n",
       "    .dataframe thead th {\n",
       "        text-align: left;\n",
       "    }\n",
       "\n",
       "    .dataframe tbody tr th {\n",
       "        vertical-align: top;\n",
       "    }\n",
       "</style>\n",
       "<table border=\"1\" class=\"dataframe\">\n",
       "  <thead>\n",
       "    <tr style=\"text-align: right;\">\n",
       "      <th></th>\n",
       "      <th>workerId</th>\n",
       "    </tr>\n",
       "    <tr>\n",
       "      <th>mode</th>\n",
       "      <th></th>\n",
       "    </tr>\n",
       "  </thead>\n",
       "  <tbody>\n",
       "    <tr>\n",
       "      <th>Category</th>\n",
       "      <td>39</td>\n",
       "    </tr>\n",
       "    <tr>\n",
       "      <th>List</th>\n",
       "      <td>49</td>\n",
       "    </tr>\n",
       "    <tr>\n",
       "      <th>Pairwise</th>\n",
       "      <td>15</td>\n",
       "    </tr>\n",
       "  </tbody>\n",
       "</table>\n",
       "</div>"
      ],
      "text/plain": [
       "          workerId\n",
       "mode              \n",
       "Category        39\n",
       "List            49\n",
       "Pairwise        15"
      ]
     },
     "execution_count": 31,
     "metadata": {},
     "output_type": "execute_result"
    }
   ],
   "source": [
    "df =res.drop_duplicates(subset=['workerId'])\n",
    "counts = df[['workerId', 'mode']].groupby(['mode']).count()\n",
    "counts"
   ]
  },
  {
   "cell_type": "code",
   "execution_count": 18,
   "metadata": {},
   "outputs": [
    {
     "data": {
      "text/plain": [
       "15"
      ]
     },
     "execution_count": 18,
     "metadata": {},
     "output_type": "execute_result"
    }
   ],
   "source": [
    "counts['workerId']['List']"
   ]
  },
  {
   "cell_type": "code",
   "execution_count": 19,
   "metadata": {},
   "outputs": [
    {
     "name": "stdout",
     "output_type": "stream",
     "text": [
      "List\n",
      "interaction    0.203704\n",
      "dtype: float64\n",
      "Category\n",
      "interaction    0.076923\n",
      "dtype: float64\n",
      "Pairwise\n",
      "interaction    0.277778\n",
      "dtype: float64\n"
     ]
    }
   ],
   "source": [
    "for m in modes:\n",
    "    df = res[res['mode'] == m]\n",
    "    c = df[df['interaction']=='PREVIOUS'][['workerId','interaction']].groupby('workerId').count()\n",
    "    # get total number \n",
    "    num = c.shape[0]\n",
    "    # adjust average to include those who don't ever iterate\n",
    "    print(m)\n",
    "    print(c.mean() / (counts['workerId']['List'] - num))"
   ]
  },
  {
   "cell_type": "code",
   "execution_count": null,
   "metadata": {
    "collapsed": true
   },
   "outputs": [],
   "source": []
  },
  {
   "cell_type": "code",
   "execution_count": null,
   "metadata": {
    "collapsed": true
   },
   "outputs": [],
   "source": []
  }
 ],
 "metadata": {
  "anaconda-cloud": {},
  "kernelspec": {
   "display_name": "Python 3",
   "language": "python",
   "name": "python3"
  },
  "language_info": {
   "codemirror_mode": {
    "name": "ipython",
    "version": 3
   },
   "file_extension": ".py",
   "mimetype": "text/x-python",
   "name": "python",
   "nbconvert_exporter": "python",
   "pygments_lexer": "ipython3",
   "version": "3.6.3"
  }
 },
 "nbformat": 4,
 "nbformat_minor": 2
}
