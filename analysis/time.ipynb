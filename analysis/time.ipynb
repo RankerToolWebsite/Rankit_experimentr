{
 "cells": [
  {
   "cell_type": "code",
   "execution_count": 17,
   "metadata": {
    "collapsed": true
   },
   "outputs": [],
   "source": [
    "import pandas as pd\n",
    "import numpy as np\n",
    "import seaborn as sns\n",
    "import matplotlib.pyplot as plt\n",
    "from sklearn.utils import resample\n",
    "%matplotlib inline"
   ]
  },
  {
   "cell_type": "markdown",
   "metadata": {
    "collapsed": true
   },
   "source": [
    "### Load data (pre-processed in clean.ipynb) and define useful constants"
   ]
  },
  {
   "cell_type": "code",
   "execution_count": 18,
   "metadata": {
    "collapsed": true
   },
   "outputs": [],
   "source": [
    "# load data\n",
    "# res = pd.read_csv(\"results/results_cleaned.csv\")\n",
    "res = pd.read_csv(\"results/results_cleaned_no_outliers.csv\")\n",
    "# required fields\n",
    "ids = ['timestamp','postId','workerId','mode']\n",
    "\n",
    "# timing\n",
    "time_diff = ['timestamp','postId','workerId','mode','time_diff_build', 'time_diff_experiment',\n",
    "       'time_diff_explore', 'time_diff_strategy', 'time_diff_training']\n",
    "\n",
    "modes = [\"List\", \"Category\", \"Pairwise\"]"
   ]
  },
  {
   "cell_type": "markdown",
   "metadata": {},
   "source": [
    "### Numer of Workers for each Mode"
   ]
  },
  {
   "cell_type": "code",
   "execution_count": 19,
   "metadata": {},
   "outputs": [
    {
     "data": {
      "text/html": [
       "<div>\n",
       "<style>\n",
       "    .dataframe thead tr:only-child th {\n",
       "        text-align: right;\n",
       "    }\n",
       "\n",
       "    .dataframe thead th {\n",
       "        text-align: left;\n",
       "    }\n",
       "\n",
       "    .dataframe tbody tr th {\n",
       "        vertical-align: top;\n",
       "    }\n",
       "</style>\n",
       "<table border=\"1\" class=\"dataframe\">\n",
       "  <thead>\n",
       "    <tr style=\"text-align: right;\">\n",
       "      <th></th>\n",
       "      <th>workerId</th>\n",
       "    </tr>\n",
       "    <tr>\n",
       "      <th>mode</th>\n",
       "      <th></th>\n",
       "    </tr>\n",
       "  </thead>\n",
       "  <tbody>\n",
       "    <tr>\n",
       "      <th>Category</th>\n",
       "      <td>15</td>\n",
       "    </tr>\n",
       "    <tr>\n",
       "      <th>List</th>\n",
       "      <td>14</td>\n",
       "    </tr>\n",
       "    <tr>\n",
       "      <th>Pairwise</th>\n",
       "      <td>15</td>\n",
       "    </tr>\n",
       "  </tbody>\n",
       "</table>\n",
       "</div>"
      ],
      "text/plain": [
       "          workerId\n",
       "mode              \n",
       "Category        15\n",
       "List            14\n",
       "Pairwise        15"
      ]
     },
     "execution_count": 19,
     "metadata": {},
     "output_type": "execute_result"
    }
   ],
   "source": [
    "df =res.drop_duplicates(subset=['workerId'])\n",
    "df[['workerId', 'mode']].groupby(['mode']).count()"
   ]
  },
  {
   "cell_type": "code",
   "execution_count": 21,
   "metadata": {},
   "outputs": [],
   "source": [
    "# grouped_df = res[['workerId','time_diff_training', 'mode']].groupby('workerId')\n",
    "# for key, item in grouped_df:\n",
    "#     print(grouped_df.get_group(key).drop_duplicates(), \"\\n\\n\")"
   ]
  },
  {
   "cell_type": "markdown",
   "metadata": {},
   "source": [
    "### Overall time spent by workers and pricing"
   ]
  },
  {
   "cell_type": "code",
   "execution_count": 22,
   "metadata": {
    "collapsed": true
   },
   "outputs": [],
   "source": [
    "price_per_hit = 1.25\n",
    "\n",
    "def hourly_rate(x):\n",
    "    return (60/x)*price_per_hit"
   ]
  },
  {
   "cell_type": "code",
   "execution_count": 23,
   "metadata": {},
   "outputs": [
    {
     "name": "stdout",
     "output_type": "stream",
     "text": [
      "average hourly rate 9.581966763601795\n",
      "median hourly rate 10.665554288856393\n",
      "minimum hourly rate 101.959895774\n",
      "maximum hourly rate 3.09920130139\n"
     ]
    }
   ],
   "source": [
    "#average time \n",
    "print('average hourly rate', hourly_rate(res['time_diff_experiment'].mean()/1000/60))\n",
    "print('median hourly rate', hourly_rate(res['time_diff_experiment'].median()/1000/60))\n",
    "print('minimum hourly rate', hourly_rate(res['time_diff_experiment'].min()/1000/60))\n",
    "print('maximum hourly rate', hourly_rate(res['time_diff_experiment'].max()/1000/60))"
   ]
  },
  {
   "cell_type": "code",
   "execution_count": 24,
   "metadata": {},
   "outputs": [
    {
     "name": "stdout",
     "output_type": "stream",
     "text": [
      "average time spent 7.8272031045751636\n",
      "median time 7.031983333333333\n",
      "minimum time 0.735583333333\n",
      "maximum time 24.1997833333\n"
     ]
    }
   ],
   "source": [
    "#average time \n",
    "print('average time spent', res['time_diff_experiment'].mean()/1000/60)\n",
    "print('median time', res['time_diff_experiment'].median()/1000/60)\n",
    "print('minimum time', res['time_diff_experiment'].min()/1000/60)\n",
    "print('maximum time', res['time_diff_experiment'].max()/1000/60)"
   ]
  },
  {
   "cell_type": "code",
   "execution_count": 25,
   "metadata": {},
   "outputs": [
    {
     "data": {
      "image/png": "[encoded data removed]",
      "text/plain": [
       "<matplotlib.figure.Figure at 0xe06f116b70>"
      ]
     },
     "metadata": {},
     "output_type": "display_data"
    }
   ],
   "source": [
    "t = res[time_diff].dropna(subset=['time_diff_experiment'])\n",
    "t['time_diff_experiment'] = t['time_diff_experiment']/1000/60\n",
    "t.hist('time_diff_experiment')\n",
    "plt.title(\"time spent on experiment in minutes\")\n",
    "plt.savefig(\"results/time_hist.png\")"
   ]
  },
  {
   "cell_type": "code",
   "execution_count": 26,
   "metadata": {},
   "outputs": [
    {
     "data": {
      "image/png": "[encoded data removed]",
      "text/plain": [
       "<matplotlib.figure.Figure at 0xe06f5da550>"
      ]
     },
     "metadata": {},
     "output_type": "display_data"
    }
   ],
   "source": [
    "t = res[time_diff].dropna(subset=['time_diff_experiment'])\n",
    "t['time_diff_experiment'] = (t['time_diff_experiment']/1000/60).map(hourly_rate)\n",
    "t.hist('time_diff_experiment')\n",
    "plt.title(\"hourly rate for workers\")\n",
    "plt.savefig(\"results/hourly_hist.png\")"
   ]
  },
  {
   "cell_type": "code",
   "execution_count": 12,
   "metadata": {
    "collapsed": true
   },
   "outputs": [],
   "source": [
    "# compute bootstrapped confidence interval\n",
    "def bootstrap_mean(data, n_bootstraps):\n",
    "    bootstraps = []\n",
    "    for i in range(n_bootstraps):\n",
    "        # Sample with replacement from data\n",
    "        bootstraps.append(resample(data).mean())\n",
    "    return pd.Series(bootstraps)"
   ]
  },
  {
   "cell_type": "code",
   "execution_count": null,
   "metadata": {
    "collapsed": true
   },
   "outputs": [],
   "source": [
    "times = df.drop_duplicates(subset=['workerId', t]).groupby(['workerId','mode']).sum()\n",
    "times = times.reset_index()\n",
    "times['time_diff_build'] = times['time_diff_build']/1000/60\n",
    "    \n",
    "df0=pd.DataFrame()\n",
    "df0['measure'] = times['List'].values\n",
    "df0['condition'] = 'List'\n",
    "df1=pd.DataFrame()\n",
    "df1['measure'] = times['Category'].values\n",
    "df1['condition'] = 'Category'\n",
    "df2=pd.DataFrame()\n",
    "df2['measure'] = times['Pairwise'].values\n",
    "df2['condition'] = 'Pairwise'\n",
    "df = pd.concat([df0,df1,df2])\n",
    "df[['condition','measure']]"
   ]
  },
  {
   "cell_type": "code",
   "execution_count": 13,
   "metadata": {
    "collapsed": true
   },
   "outputs": [],
   "source": [
    "def confidence_plot_time(df, t, title, filename):\n",
    "\n",
    "    # sum the times for all sessions for each worker\n",
    "    times = df.drop_duplicates(subset=['workerId', t]).groupby(['workerId','mode']).sum()\n",
    "    times = times.reset_index()\n",
    "    times[t] = times[t]/1000/60\n",
    "\n",
    "    boot = pd.DataFrame()\n",
    "    for m in modes:\n",
    "        boot[m]=bootstrap_mean(times[times[\"mode\"] == m][t], 1000)\n",
    "\n",
    "    mean = boot.mean()\n",
    "    err = []\n",
    "    err.append((boot.apply(lambda x : np.percentile(x, (5))) - mean).abs())\n",
    "    err.append(boot.apply(lambda x : np.percentile(x, (95))) - mean)\n",
    "\n",
    "    plt.errorbar(mean, [0,1,2], xerr=err, fmt='o-',linestyle='none', ecolor=['red','blue','green'], elinewidth=3, markersize=7 )\n",
    "    plt.yticks([0,1,2], mean.index, size='large')\n",
    "    plt.title(title, size='x-large')\n",
    "    plt.savefig(filename, bbox_inches='tight')"
   ]
  },
  {
   "cell_type": "code",
   "execution_count": 14,
   "metadata": {},
   "outputs": [
    {
     "data": {
      "image/png": "[encoded data removed]",
      "text/plain": [
       "<matplotlib.figure.Figure at 0x4b23aec9b0>"
      ]
     },
     "metadata": {},
     "output_type": "display_data"
    }
   ],
   "source": [
    "confidence_plot_time(res[['mode','workerId', 'time_diff_build']], \n",
    "                     'time_diff_build', \n",
    "                     'Average time building in minutes', \n",
    "                     'results/build_time.png')"
   ]
  },
  {
   "cell_type": "code",
   "execution_count": 15,
   "metadata": {},
   "outputs": [
    {
     "data": {
      "image/png": "[encoded data removed]",
      "text/plain": [
       "<matplotlib.figure.Figure at 0x4b23c01ef0>"
      ]
     },
     "metadata": {},
     "output_type": "display_data"
    }
   ],
   "source": [
    "confidence_plot_time(res[['mode','workerId', 'time_diff_explore']], \n",
    "                     'time_diff_explore', \n",
    "                     'Average time exploring in minutes', \n",
    "                     'results/explore_time.png')\n"
   ]
  },
  {
   "cell_type": "code",
   "execution_count": null,
   "metadata": {
    "collapsed": true
   },
   "outputs": [],
   "source": []
  },
  {
   "cell_type": "code",
   "execution_count": 26,
   "metadata": {
    "collapsed": true
   },
   "outputs": [],
   "source": [
    "# t = 'time_diff_build'\n",
    "# times = res[time_diff].drop_duplicates(subset=['workerId', t]).groupby(['workerId','mode']).sum()\n",
    "# times = times.reset_index()\n",
    "# times[t] = times[t]/1000/60\n",
    "\n",
    "# boot = []\n",
    "# for j,m in enumerate(modes):\n",
    "#     data = times[times[\"mode\"] == m][t]\n",
    "#     for i in range(1000):\n",
    "#         # Sample with replacement from data\n",
    "#         boot.append((resample(data).mean(), j))\n",
    "# b = pd.DataFrame(boot, columns=[\"x\", \"y\"])\n",
    "\n",
    "# sns.set(style=\"whitegrid\")\n",
    "\n",
    "# # Initialize the figure\n",
    "# f, ax = plt.subplots()\n",
    "# sns.despine(bottom=True, left=True)\n",
    "\n",
    "# # Show each observation with a scatterplot\n",
    "# sns.stripplot(x=\"x\", y=\"y\", hue=\"y\",\n",
    "#               data=b, dodge=True, jitter=True,\n",
    "#               alpha=.25, zorder=1)\n",
    "\n",
    "# # Show the conditional means\n",
    "# # sns.pointplot(x=\"x\", y=\"y\", hue=\"y\",\n",
    "# #               data=b, dodge=.532, join=False, palette=\"dark\",\n",
    "# #               markers=\"d\", scale=.75, ci=None)\n",
    "\n",
    "# # plt.show()\n",
    "# sns.plt.show()\n",
    "# # # Improve the legend \n",
    "# # handles, labels = ax.get_legend_handles_labels()\n",
    "# # ax.legend(handles[3:], labels[3:], title=\"species\",\n",
    "# #           handletextpad=0, columnspacing=1,\n",
    "# #           loc=\"lower right\", ncol=3, frameon=True)"
   ]
  },
  {
   "cell_type": "code",
   "execution_count": null,
   "metadata": {
    "collapsed": true
   },
   "outputs": [],
   "source": []
  }
 ],
 "metadata": {
  "anaconda-cloud": {},
  "kernelspec": {
   "display_name": "Python 3",
   "language": "python",
   "name": "python3"
  },
  "language_info": {
   "codemirror_mode": {
    "name": "ipython",
    "version": 3
   },
   "file_extension": ".py",
   "mimetype": "text/x-python",
   "name": "python",
   "nbconvert_exporter": "python",
   "pygments_lexer": "ipython3",
   "version": "3.6.3"
  }
 },
 "nbformat": 4,
 "nbformat_minor": 2
}
