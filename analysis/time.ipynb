{
 "cells": [
  {
   "cell_type": "code",
   "execution_count": 2,
   "metadata": {
    "collapsed": true
   },
   "outputs": [],
   "source": [
    "import pandas as pd\n",
    "import numpy as np\n",
    "import seaborn as sns\n",
    "import matplotlib.pyplot as plt\n",
    "from sklearn.utils import resample\n",
    "%matplotlib inline"
   ]
  },
  {
   "cell_type": "markdown",
   "metadata": {
    "collapsed": true
   },
   "source": [
    "### Load data (pre-processed in clean.ipynb) and define useful constants"
   ]
  },
  {
   "cell_type": "code",
   "execution_count": 3,
   "metadata": {
    "collapsed": true
   },
   "outputs": [],
   "source": [
    "# load data\n",
    "res = pd.read_csv(\"results/results_cleaned.csv\")\n",
    "\n",
    "# required fields\n",
    "ids = ['timestamp','postId','workerId','mode']\n",
    "\n",
    "# timing\n",
    "time_diff = ['timestamp','postId','workerId','mode','time_diff_build', 'time_diff_experiment',\n",
    "       'time_diff_explore', 'time_diff_strategy', 'time_diff_training']\n",
    "\n",
    "modes = [\"List\", \"Category\", \"Pairwise\"]"
   ]
  },
  {
   "cell_type": "markdown",
   "metadata": {},
   "source": [
    "### Overall time spent by workers and pricing"
   ]
  },
  {
   "cell_type": "code",
   "execution_count": 4,
   "metadata": {
    "collapsed": true
   },
   "outputs": [],
   "source": [
    "price_per_hit = 1.5\n",
    "\n",
    "def hourly_rate(x):\n",
    "    return (60/x)*price_per_hit"
   ]
  },
  {
   "cell_type": "code",
   "execution_count": 5,
   "metadata": {},
   "outputs": [
    {
     "name": "stdout",
     "output_type": "stream",
     "text": [
      "average hourly rate 18.68087194507324\n",
      "median hourly rate 20.575308486743218\n",
      "maximum hourly rate 71.7693810555\n",
      "minimum hourly rate 8.69877588893\n"
     ]
    }
   ],
   "source": [
    "#average time \n",
    "print('average hourly rate', hourly_rate(res['time_diff_experiment'].mean()/1000/60))\n",
    "print('median hourly rate', hourly_rate(res['time_diff_experiment'].median()/1000/60))\n",
    "print('maximum hourly rate', hourly_rate(res['time_diff_experiment'].min()/1000/60))\n",
    "print('minimum hourly rate', hourly_rate(res['time_diff_experiment'].max()/1000/60))"
   ]
  },
  {
   "cell_type": "code",
   "execution_count": 9,
   "metadata": {},
   "outputs": [
    {
     "data": {
      "image/png": "[encoded data removed]",
      "text/plain": [
       "<matplotlib.figure.Figure at 0xc183851fd0>"
      ]
     },
     "metadata": {},
     "output_type": "display_data"
    }
   ],
   "source": [
    "t = res[time_diff].dropna(subset=['time_diff_experiment'])\n",
    "t['time_diff_experiment'] = t['time_diff_experiment']/1000/60\n",
    "t.hist('time_diff_experiment')\n",
    "plt.title(\"time spent on experiment in minutes\")\n",
    "plt.savefig(\"results/time_hist.png\")"
   ]
  },
  {
   "cell_type": "code",
   "execution_count": 10,
   "metadata": {},
   "outputs": [
    {
     "data": {
      "image/png": "[encoded data removed]",
      "text/plain": [
       "<matplotlib.figure.Figure at 0xc187a35320>"
      ]
     },
     "metadata": {},
     "output_type": "display_data"
    }
   ],
   "source": [
    "t = res[time_diff].dropna(subset=['time_diff_experiment'])\n",
    "t['time_diff_experiment'] = t['time_diff_experiment'].map(hourly_rate)\n",
    "t.hist('time_diff_experiment')\n",
    "plt.title(\"hourly rate for workers\")\n",
    "plt.savefig(\"results/hourly_hist.png\")"
   ]
  },
  {
   "cell_type": "code",
   "execution_count": 11,
   "metadata": {
    "collapsed": true
   },
   "outputs": [],
   "source": [
    "# compute bootstrapped confidence interval\n",
    "def bootstrap_mean(data, n_bootstraps):\n",
    "    bootstraps = []\n",
    "    for i in range(n_bootstraps):\n",
    "        # Sample with replacement from data\n",
    "        bootstraps.append(resample(data).mean())\n",
    "    return pd.Series(bootstraps)"
   ]
  },
  {
   "cell_type": "code",
   "execution_count": 12,
   "metadata": {
    "collapsed": true
   },
   "outputs": [],
   "source": [
    "def confidence_plot_time(df, t, title, filename):\n",
    "\n",
    "    # sum the times for all sessions for each worker\n",
    "    times = df.drop_duplicates(subset=['workerId', t]).groupby(['workerId','mode']).sum()\n",
    "    times = times.reset_index()\n",
    "    times[t] = times[t]/1000/60\n",
    "\n",
    "    boot = pd.DataFrame()\n",
    "    for m in modes:\n",
    "        boot[m]=bootstrap_mean(times[times[\"mode\"] == m][t], 1000)\n",
    "\n",
    "    mean = boot.mean()\n",
    "    err = []\n",
    "    err.append((boot.apply(lambda x : np.percentile(x, (5))) - mean).abs())\n",
    "    err.append(boot.apply(lambda x : np.percentile(x, (95))) - mean)\n",
    "\n",
    "    plt.errorbar(mean, [0,1,2], xerr=err, fmt='o-',linestyle='none', ecolor=['red','blue','green'])\n",
    "    plt.yticks([0,1,2], mean.index)\n",
    "    plt.title(title)\n",
    "    plt.savefig(filename)"
   ]
  },
  {
   "cell_type": "code",
   "execution_count": 14,
   "metadata": {},
   "outputs": [
    {
     "data": {
      "image/png": "[encoded data removed]",
      "text/plain": [
       "<matplotlib.figure.Figure at 0xc18bb87ba8>"
      ]
     },
     "metadata": {},
     "output_type": "display_data"
    }
   ],
   "source": [
    "confidence_plot_time(res[['mode','workerId', 'time_diff_build']], \n",
    "                     'time_diff_build', \n",
    "                     'Average time building in minutes', \n",
    "                     'results/build_time.png')"
   ]
  },
  {
   "cell_type": "code",
   "execution_count": 15,
   "metadata": {},
   "outputs": [
    {
     "data": {
      "image/png": "[encoded data removed]",
      "text/plain": [
       "<matplotlib.figure.Figure at 0xc18bb87748>"
      ]
     },
     "metadata": {},
     "output_type": "display_data"
    }
   ],
   "source": [
    "confidence_plot_time(res[['mode','workerId', 'time_diff_explore']], \n",
    "                     'time_diff_explore', \n",
    "                     'Average time exploring in minutes', \n",
    "                     'results/explore_time.png')\n"
   ]
  },
  {
   "cell_type": "code",
   "execution_count": 35,
   "metadata": {},
   "outputs": [
    {
     "ename": "AttributeError",
     "evalue": "module 'seaborn' has no attribute 'plt'",
     "output_type": "error",
     "traceback": [
      "\u001b[1;31m---------------------------------------------------------------------------\u001b[0m",
      "\u001b[1;31mAttributeError\u001b[0m                            Traceback (most recent call last)",
      "\u001b[1;32m<ipython-input-35-e538181ec547>\u001b[0m in \u001b[0;36m<module>\u001b[1;34m()\u001b[0m\n\u001b[0;32m     29\u001b[0m \u001b[1;33m\u001b[0m\u001b[0m\n\u001b[0;32m     30\u001b[0m \u001b[1;31m# plt.show()\u001b[0m\u001b[1;33m\u001b[0m\u001b[1;33m\u001b[0m\u001b[0m\n\u001b[1;32m---> 31\u001b[1;33m \u001b[0msns\u001b[0m\u001b[1;33m.\u001b[0m\u001b[0mplt\u001b[0m\u001b[1;33m.\u001b[0m\u001b[0mshow\u001b[0m\u001b[1;33m(\u001b[0m\u001b[1;33m)\u001b[0m\u001b[1;33m\u001b[0m\u001b[0m\n\u001b[0m\u001b[0;32m     32\u001b[0m \u001b[1;31m# # Improve the legend\u001b[0m\u001b[1;33m\u001b[0m\u001b[1;33m\u001b[0m\u001b[0m\n\u001b[0;32m     33\u001b[0m \u001b[1;31m# handles, labels = ax.get_legend_handles_labels()\u001b[0m\u001b[1;33m\u001b[0m\u001b[1;33m\u001b[0m\u001b[0m\n",
      "\u001b[1;31mAttributeError\u001b[0m: module 'seaborn' has no attribute 'plt'"
     ]
    },
    {
     "data": {
      "image/png": "[encoded data removed]",
      "text/plain": [
       "<matplotlib.figure.Figure at 0x3c2eedf940>"
      ]
     },
     "metadata": {},
     "output_type": "display_data"
    }
   ],
   "source": [
    "t = 'time_diff_build'\n",
    "times = res[time_diff].drop_duplicates(subset=['workerId', t]).groupby(['workerId','mode']).sum()\n",
    "times = times.reset_index()\n",
    "times[t] = times[t]/1000/60\n",
    "\n",
    "boot = []\n",
    "for j,m in enumerate(modes):\n",
    "    data = times[times[\"mode\"] == m][t]\n",
    "    for i in range(1000):\n",
    "        # Sample with replacement from data\n",
    "        boot.append((resample(data).mean(), j))\n",
    "b = pd.DataFrame(boot, columns=[\"x\", \"y\"])\n",
    "\n",
    "sns.set(style=\"whitegrid\")\n",
    "\n",
    "# Initialize the figure\n",
    "f, ax = plt.subplots()\n",
    "sns.despine(bottom=True, left=True)\n",
    "\n",
    "# Show each observation with a scatterplot\n",
    "sns.stripplot(x=\"x\", y=\"y\", hue=\"y\",\n",
    "              data=b, dodge=True, jitter=True,\n",
    "              alpha=.25, zorder=1)\n",
    "\n",
    "# Show the conditional means\n",
    "# sns.pointplot(x=\"x\", y=\"y\", hue=\"y\",\n",
    "#               data=b, dodge=.532, join=False, palette=\"dark\",\n",
    "#               markers=\"d\", scale=.75, ci=None)\n",
    "\n",
    "# plt.show()\n",
    "sns.plt.show()\n",
    "# # Improve the legend \n",
    "# handles, labels = ax.get_legend_handles_labels()\n",
    "# ax.legend(handles[3:], labels[3:], title=\"species\",\n",
    "#           handletextpad=0, columnspacing=1,\n",
    "#           loc=\"lower right\", ncol=3, frameon=True)"
   ]
  }
 ],
 "metadata": {
  "anaconda-cloud": {},
  "kernelspec": {
   "display_name": "Python 3",
   "language": "python",
   "name": "python3"
  },
  "language_info": {
   "codemirror_mode": {
    "name": "ipython",
    "version": 3
   },
   "file_extension": ".py",
   "mimetype": "text/x-python",
   "name": "python",
   "nbconvert_exporter": "python",
   "pygments_lexer": "ipython3",
   "version": "3.6.3"
  }
 },
 "nbformat": 4,
 "nbformat_minor": 2
}
