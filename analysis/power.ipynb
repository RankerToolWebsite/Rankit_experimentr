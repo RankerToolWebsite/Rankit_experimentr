{
 "cells": [
  {
   "cell_type": "code",
   "execution_count": 84,
   "metadata": {
    "collapsed": true
   },
   "outputs": [],
   "source": [
    "import pandas as pd\n",
    "import numpy as np\n",
    "import matplotlib\n",
    "import matplotlib.pyplot as plt\n",
    "import seaborn as sns\n",
    "from sklearn.utils import resample\n",
    "%matplotlib inline"
   ]
  },
  {
   "cell_type": "markdown",
   "metadata": {
    "collapsed": true
   },
   "source": [
    "### Load data (pre-processed in clean.ipynb) and define useful constants"
   ]
  },
  {
   "cell_type": "code",
   "execution_count": 85,
   "metadata": {
    "collapsed": true
   },
   "outputs": [],
   "source": [
    "# load data\n",
    "# res = pd.read_csv(\"results/results_cleaned.csv\")\n",
    "res = pd.read_csv(\"results/results_cleaned_no_outliers.csv\")\n",
    "\n",
    "# required fields\n",
    "ids = ['timestamp','postId','workerId','mode']\n",
    "\n",
    "# interactions\n",
    "inter = ['timestamp','postId','workerId','mode','interaction','UrlChanges', 'highUrlChanges', \n",
    "       'lowUrlChanges', 'medUrlChanges', 'model', 'pop_time']\n",
    "\n",
    "modes = [\"List\", \"Category\", \"Pairwise\"]"
   ]
  },
  {
   "cell_type": "code",
   "execution_count": 86,
   "metadata": {},
   "outputs": [
    {
     "data": {
      "text/html": [
       "<div>\n",
       "<style>\n",
       "    .dataframe thead tr:only-child th {\n",
       "        text-align: right;\n",
       "    }\n",
       "\n",
       "    .dataframe thead th {\n",
       "        text-align: left;\n",
       "    }\n",
       "\n",
       "    .dataframe tbody tr th {\n",
       "        vertical-align: top;\n",
       "    }\n",
       "</style>\n",
       "<table border=\"1\" class=\"dataframe\">\n",
       "  <thead>\n",
       "    <tr style=\"text-align: right;\">\n",
       "      <th></th>\n",
       "      <th>workerId</th>\n",
       "    </tr>\n",
       "    <tr>\n",
       "      <th>mode</th>\n",
       "      <th></th>\n",
       "    </tr>\n",
       "  </thead>\n",
       "  <tbody>\n",
       "    <tr>\n",
       "      <th>Category</th>\n",
       "      <td>15</td>\n",
       "    </tr>\n",
       "    <tr>\n",
       "      <th>List</th>\n",
       "      <td>14</td>\n",
       "    </tr>\n",
       "    <tr>\n",
       "      <th>Pairwise</th>\n",
       "      <td>15</td>\n",
       "    </tr>\n",
       "  </tbody>\n",
       "</table>\n",
       "</div>"
      ],
      "text/plain": [
       "          workerId\n",
       "mode              \n",
       "Category        15\n",
       "List            14\n",
       "Pairwise        15"
      ]
     },
     "execution_count": 86,
     "metadata": {},
     "output_type": "execute_result"
    }
   ],
   "source": [
    "df =res.drop_duplicates(subset=['workerId'])\n",
    "df[['workerId', 'mode']].groupby(['mode']).count()"
   ]
  },
  {
   "cell_type": "code",
   "execution_count": 87,
   "metadata": {
    "collapsed": true
   },
   "outputs": [],
   "source": [
    "# compute bootstrapped confidence interval\n",
    "def bootstrap_mean(data, n_bootstraps):\n",
    "    bootstraps = []\n",
    "    for i in range(n_bootstraps):\n",
    "        # Sample with replacement from data\n",
    "        bootstraps.append(resample(data).mean())\n",
    "    return pd.Series(bootstraps)"
   ]
  },
  {
   "cell_type": "code",
   "execution_count": 88,
   "metadata": {
    "collapsed": true
   },
   "outputs": [],
   "source": [
    "# # should we change the interactions to just be add remove? \n",
    "# # can tell by url if high low etc\n",
    "\n",
    "# res.replace(to_replace=['ADD', 'HIGH ADD', 'LOW ADD', 'LEFT ADD', 'RIGHT ADD'], value ='ADD', inplace=True)\n",
    "# res.replace(to_replace=['REMOVE', 'HIGH REMOVE', 'LOW REMOVE', 'LEFT REMOVE', 'RIGHT REMOVE'], value ='REMOVE', inplace=True)"
   ]
  },
  {
   "cell_type": "code",
   "execution_count": 89,
   "metadata": {
    "collapsed": true
   },
   "outputs": [],
   "source": [
    "inter_l = ['timestamp','workerId','mode','interaction','UrlChanges'] \n",
    "inter_c = ['timestamp','workerId','mode','interaction','highUrlChanges', 'lowUrlChanges', 'medUrlChanges']\n",
    "inter_p = ['timestamp','workerId','mode','interaction','highUrlChanges', 'lowUrlChanges']\n",
    "\n",
    "ints = {}\n",
    "ints['l'] = res[inter_l][res['mode']=='List'].drop_duplicates(subset=['workerId','interaction','UrlChanges'])\n",
    "ints['c'] = res[inter_c][res['mode']=='Category'].drop_duplicates(subset=['workerId','interaction','highUrlChanges', \n",
    "                                                                'lowUrlChanges', 'medUrlChanges'])\n",
    "ints['p'] = res[inter_p][res['mode']=='Pairwise'].drop_duplicates(subset=['workerId','interaction','highUrlChanges', \n",
    "                                                                'lowUrlChanges'])"
   ]
  },
  {
   "cell_type": "code",
   "execution_count": 90,
   "metadata": {
    "collapsed": true
   },
   "outputs": [],
   "source": [
    "adds={}\n",
    "removes={}\n",
    "ranks = {}\n",
    "for i in ints:\n",
    "    ints[i] = ints[i].groupby(['workerId']).apply(pd.DataFrame.sort_values, 'timestamp')\n",
    "    ints[i] = ints[i].reset_index(drop=True)\n",
    "    ints[i].dropna(subset =['interaction'])"
   ]
  },
  {
   "cell_type": "code",
   "execution_count": 91,
   "metadata": {
    "collapsed": true
   },
   "outputs": [],
   "source": [
    "adds = {}\n",
    "adds['List'] = ints['l'][ints['l']['interaction'] == 'ADD'].groupby('workerId').count()['interaction']\n",
    "adds['Category'] = ints['c'][ints['c']['interaction'].isin(['LOW ADD', 'HIGH ADD', 'MED ADD'])].groupby('workerId').count()['interaction']\n",
    "adds['Pairwise'] = ints['p'][ints['p']['interaction'].isin(['LEFT ADD', 'RIGHT ADD'])].groupby('workerId').count()['interaction']\n",
    "\n",
    "removes = {}\n",
    "removes['List'] = ints['l'][ints['l']['interaction'] == 'REMOVE'].groupby('workerId').count()['interaction']\n",
    "removes['Category'] = ints['c'][ints['c']['interaction'].isin(['LOW REMOVE', 'HIGH REMOVE', 'MED REMOVE'])].groupby('workerId').count()['interaction']\n",
    "removes['Pairwise'] = ints['p'][ints['p']['interaction'].isin(['LEFT REMOVE', 'RIGHT REMOVE'])].groupby('workerId').count()[['interaction','mode']]"
   ]
  },
  {
   "cell_type": "code",
   "execution_count": 92,
   "metadata": {},
   "outputs": [
    {
     "data": {
      "text/plain": [
       "(15,)"
      ]
     },
     "execution_count": 92,
     "metadata": {},
     "output_type": "execute_result"
    }
   ],
   "source": [
    "adds['Category'].shape"
   ]
  },
  {
   "cell_type": "code",
   "execution_count": 93,
   "metadata": {},
   "outputs": [
    {
     "data": {
      "text/plain": [
       "workerId\n",
       "A13HZKB2NGZP6B     5\n",
       "A14WLAP6TCEKO0     8\n",
       "A1F1BIPJR11LSR    12\n",
       "A1IJ86B8ZRKXBI     2\n",
       "A1ZKNQJO513B3W    11\n",
       "A20J7F7PKEZZV2     7\n",
       "A2E5PZUD6W4OA1    10\n",
       "A2NX3S99EUKJFF     5\n",
       "A2T11H7YI7QPGD     5\n",
       "A39Q4SNT7SRK94    13\n",
       "A3E52NQFBDRD87    15\n",
       "A3LC6M2EMDBBXP     5\n",
       "A9ZCY6FLUCIU1     10\n",
       "AXUNP4MWN9K8P      8\n",
       "Name: interaction, dtype: int64"
      ]
     },
     "execution_count": 93,
     "metadata": {},
     "output_type": "execute_result"
    }
   ],
   "source": [
    "adds['List']"
   ]
  },
  {
   "cell_type": "code",
   "execution_count": 94,
   "metadata": {},
   "outputs": [
    {
     "data": {
      "text/plain": [
       "workerId\n",
       "A16SAB417Y96G4     2\n",
       "A19DZAFFZEU6GN    16\n",
       "A1GKD3NG1NNHRP    17\n",
       "A271V19C06841K     6\n",
       "A2ATUQ491PEC7L     4\n",
       "A2C7TMRC2QHTIW     9\n",
       "A2CISHIOILFDHN    29\n",
       "A2M5VW97GIYLHB    31\n",
       "A3EG4C9T4F5DUR    26\n",
       "A3H3NJ23IM4XUZ     2\n",
       "A3TCVXCMU6MTPB    20\n",
       "AM2KK02JXXW48     12\n",
       "AO33H4GL9KZX9     15\n",
       "ARIMQAMYUB6TH     17\n",
       "AUFEIF3EGRO2C      8\n",
       "Name: interaction, dtype: int64"
      ]
     },
     "execution_count": 94,
     "metadata": {},
     "output_type": "execute_result"
    }
   ],
   "source": [
    "adds['Pairwise']"
   ]
  },
  {
   "cell_type": "code",
   "execution_count": 95,
   "metadata": {},
   "outputs": [
    {
     "data": {
      "text/html": [
       "<div>\n",
       "<style>\n",
       "    .dataframe thead tr:only-child th {\n",
       "        text-align: right;\n",
       "    }\n",
       "\n",
       "    .dataframe thead th {\n",
       "        text-align: left;\n",
       "    }\n",
       "\n",
       "    .dataframe tbody tr th {\n",
       "        vertical-align: top;\n",
       "    }\n",
       "</style>\n",
       "<table border=\"1\" class=\"dataframe\">\n",
       "  <thead>\n",
       "    <tr style=\"text-align: right;\">\n",
       "      <th></th>\n",
       "      <th>condition</th>\n",
       "      <th>measure</th>\n",
       "    </tr>\n",
       "  </thead>\n",
       "  <tbody>\n",
       "    <tr>\n",
       "      <th>0</th>\n",
       "      <td>List</td>\n",
       "      <td>5</td>\n",
       "    </tr>\n",
       "    <tr>\n",
       "      <th>1</th>\n",
       "      <td>List</td>\n",
       "      <td>8</td>\n",
       "    </tr>\n",
       "    <tr>\n",
       "      <th>2</th>\n",
       "      <td>List</td>\n",
       "      <td>12</td>\n",
       "    </tr>\n",
       "    <tr>\n",
       "      <th>3</th>\n",
       "      <td>List</td>\n",
       "      <td>2</td>\n",
       "    </tr>\n",
       "    <tr>\n",
       "      <th>4</th>\n",
       "      <td>List</td>\n",
       "      <td>11</td>\n",
       "    </tr>\n",
       "    <tr>\n",
       "      <th>5</th>\n",
       "      <td>List</td>\n",
       "      <td>7</td>\n",
       "    </tr>\n",
       "    <tr>\n",
       "      <th>6</th>\n",
       "      <td>List</td>\n",
       "      <td>10</td>\n",
       "    </tr>\n",
       "    <tr>\n",
       "      <th>7</th>\n",
       "      <td>List</td>\n",
       "      <td>5</td>\n",
       "    </tr>\n",
       "    <tr>\n",
       "      <th>8</th>\n",
       "      <td>List</td>\n",
       "      <td>5</td>\n",
       "    </tr>\n",
       "    <tr>\n",
       "      <th>9</th>\n",
       "      <td>List</td>\n",
       "      <td>13</td>\n",
       "    </tr>\n",
       "    <tr>\n",
       "      <th>10</th>\n",
       "      <td>List</td>\n",
       "      <td>15</td>\n",
       "    </tr>\n",
       "    <tr>\n",
       "      <th>11</th>\n",
       "      <td>List</td>\n",
       "      <td>5</td>\n",
       "    </tr>\n",
       "    <tr>\n",
       "      <th>12</th>\n",
       "      <td>List</td>\n",
       "      <td>10</td>\n",
       "    </tr>\n",
       "    <tr>\n",
       "      <th>13</th>\n",
       "      <td>List</td>\n",
       "      <td>8</td>\n",
       "    </tr>\n",
       "    <tr>\n",
       "      <th>0</th>\n",
       "      <td>Category</td>\n",
       "      <td>12</td>\n",
       "    </tr>\n",
       "    <tr>\n",
       "      <th>1</th>\n",
       "      <td>Category</td>\n",
       "      <td>41</td>\n",
       "    </tr>\n",
       "    <tr>\n",
       "      <th>2</th>\n",
       "      <td>Category</td>\n",
       "      <td>85</td>\n",
       "    </tr>\n",
       "    <tr>\n",
       "      <th>3</th>\n",
       "      <td>Category</td>\n",
       "      <td>3</td>\n",
       "    </tr>\n",
       "    <tr>\n",
       "      <th>4</th>\n",
       "      <td>Category</td>\n",
       "      <td>48</td>\n",
       "    </tr>\n",
       "    <tr>\n",
       "      <th>5</th>\n",
       "      <td>Category</td>\n",
       "      <td>22</td>\n",
       "    </tr>\n",
       "    <tr>\n",
       "      <th>6</th>\n",
       "      <td>Category</td>\n",
       "      <td>254</td>\n",
       "    </tr>\n",
       "    <tr>\n",
       "      <th>7</th>\n",
       "      <td>Category</td>\n",
       "      <td>12</td>\n",
       "    </tr>\n",
       "    <tr>\n",
       "      <th>8</th>\n",
       "      <td>Category</td>\n",
       "      <td>231</td>\n",
       "    </tr>\n",
       "    <tr>\n",
       "      <th>9</th>\n",
       "      <td>Category</td>\n",
       "      <td>313</td>\n",
       "    </tr>\n",
       "    <tr>\n",
       "      <th>10</th>\n",
       "      <td>Category</td>\n",
       "      <td>10</td>\n",
       "    </tr>\n",
       "    <tr>\n",
       "      <th>11</th>\n",
       "      <td>Category</td>\n",
       "      <td>325</td>\n",
       "    </tr>\n",
       "    <tr>\n",
       "      <th>12</th>\n",
       "      <td>Category</td>\n",
       "      <td>15</td>\n",
       "    </tr>\n",
       "    <tr>\n",
       "      <th>13</th>\n",
       "      <td>Category</td>\n",
       "      <td>13</td>\n",
       "    </tr>\n",
       "    <tr>\n",
       "      <th>14</th>\n",
       "      <td>Category</td>\n",
       "      <td>12</td>\n",
       "    </tr>\n",
       "    <tr>\n",
       "      <th>0</th>\n",
       "      <td>Pairwise</td>\n",
       "      <td>2</td>\n",
       "    </tr>\n",
       "    <tr>\n",
       "      <th>1</th>\n",
       "      <td>Pairwise</td>\n",
       "      <td>16</td>\n",
       "    </tr>\n",
       "    <tr>\n",
       "      <th>2</th>\n",
       "      <td>Pairwise</td>\n",
       "      <td>17</td>\n",
       "    </tr>\n",
       "    <tr>\n",
       "      <th>3</th>\n",
       "      <td>Pairwise</td>\n",
       "      <td>6</td>\n",
       "    </tr>\n",
       "    <tr>\n",
       "      <th>4</th>\n",
       "      <td>Pairwise</td>\n",
       "      <td>4</td>\n",
       "    </tr>\n",
       "    <tr>\n",
       "      <th>5</th>\n",
       "      <td>Pairwise</td>\n",
       "      <td>9</td>\n",
       "    </tr>\n",
       "    <tr>\n",
       "      <th>6</th>\n",
       "      <td>Pairwise</td>\n",
       "      <td>29</td>\n",
       "    </tr>\n",
       "    <tr>\n",
       "      <th>7</th>\n",
       "      <td>Pairwise</td>\n",
       "      <td>31</td>\n",
       "    </tr>\n",
       "    <tr>\n",
       "      <th>8</th>\n",
       "      <td>Pairwise</td>\n",
       "      <td>26</td>\n",
       "    </tr>\n",
       "    <tr>\n",
       "      <th>9</th>\n",
       "      <td>Pairwise</td>\n",
       "      <td>2</td>\n",
       "    </tr>\n",
       "    <tr>\n",
       "      <th>10</th>\n",
       "      <td>Pairwise</td>\n",
       "      <td>20</td>\n",
       "    </tr>\n",
       "    <tr>\n",
       "      <th>11</th>\n",
       "      <td>Pairwise</td>\n",
       "      <td>12</td>\n",
       "    </tr>\n",
       "    <tr>\n",
       "      <th>12</th>\n",
       "      <td>Pairwise</td>\n",
       "      <td>15</td>\n",
       "    </tr>\n",
       "    <tr>\n",
       "      <th>13</th>\n",
       "      <td>Pairwise</td>\n",
       "      <td>17</td>\n",
       "    </tr>\n",
       "    <tr>\n",
       "      <th>14</th>\n",
       "      <td>Pairwise</td>\n",
       "      <td>8</td>\n",
       "    </tr>\n",
       "  </tbody>\n",
       "</table>\n",
       "</div>"
      ],
      "text/plain": [
       "   condition  measure\n",
       "0       List        5\n",
       "1       List        8\n",
       "2       List       12\n",
       "3       List        2\n",
       "4       List       11\n",
       "5       List        7\n",
       "6       List       10\n",
       "7       List        5\n",
       "8       List        5\n",
       "9       List       13\n",
       "10      List       15\n",
       "11      List        5\n",
       "12      List       10\n",
       "13      List        8\n",
       "0   Category       12\n",
       "1   Category       41\n",
       "2   Category       85\n",
       "3   Category        3\n",
       "4   Category       48\n",
       "5   Category       22\n",
       "6   Category      254\n",
       "7   Category       12\n",
       "8   Category      231\n",
       "9   Category      313\n",
       "10  Category       10\n",
       "11  Category      325\n",
       "12  Category       15\n",
       "13  Category       13\n",
       "14  Category       12\n",
       "0   Pairwise        2\n",
       "1   Pairwise       16\n",
       "2   Pairwise       17\n",
       "3   Pairwise        6\n",
       "4   Pairwise        4\n",
       "5   Pairwise        9\n",
       "6   Pairwise       29\n",
       "7   Pairwise       31\n",
       "8   Pairwise       26\n",
       "9   Pairwise        2\n",
       "10  Pairwise       20\n",
       "11  Pairwise       12\n",
       "12  Pairwise       15\n",
       "13  Pairwise       17\n",
       "14  Pairwise        8"
      ]
     },
     "execution_count": 95,
     "metadata": {},
     "output_type": "execute_result"
    }
   ],
   "source": [
    "df0=pd.DataFrame()\n",
    "df0['measure'] = adds['List'].values\n",
    "df0['condition'] = 'List'\n",
    "df1=pd.DataFrame()\n",
    "df1['measure'] = adds['Category'].values\n",
    "df1['condition'] = 'Category'\n",
    "df2=pd.DataFrame()\n",
    "df2['measure'] = adds['Pairwise'].values\n",
    "df2['condition'] = 'Pairwise'\n",
    "df = pd.concat([df0,df1,df2])\n",
    "df[['condition','measure']]"
   ]
  },
  {
   "cell_type": "code",
   "execution_count": 96,
   "metadata": {
    "collapsed": true
   },
   "outputs": [],
   "source": [
    "df.to_csv('results/adds.csv')"
   ]
  },
  {
   "cell_type": "code",
   "execution_count": 14,
   "metadata": {},
   "outputs": [
    {
     "data": {
      "image/png": "[encoded data removed]",
      "text/plain": [
       "<matplotlib.figure.Figure at 0xbb4b8fc908>"
      ]
     },
     "metadata": {},
     "output_type": "display_data"
    }
   ],
   "source": [
    "boot = pd.DataFrame()\n",
    "for m in modes:\n",
    "    boot[m] = bootstrap_mean(removes[m], 1000)\n",
    "    \n",
    "mean = boot.mean()\n",
    "err = []\n",
    "err.append((boot.apply(lambda x : np.percentile(x, (5))) - mean).abs())\n",
    "err.append(boot.apply(lambda x : np.percentile(x, (95))) - mean)\n",
    "plt.errorbar(mean, [0,1,2], xerr=err, fmt='o-',linestyle='none', ecolor=['red','blue','green'], elinewidth=3, markersize=7 )\n",
    "plt.yticks([0,1,2], mean.index, size='large')\n",
    "plt.title('Average number of colleges removed', size='x-large')\n",
    "# plt.show()\n",
    "plt.savefig('results/remove.png', bbox_inches='tight')"
   ]
  },
  {
   "cell_type": "code",
   "execution_count": 15,
   "metadata": {},
   "outputs": [
    {
     "data": {
      "image/png": "[encoded data removed]",
      "text/plain": [
       "<matplotlib.figure.Figure at 0xbb4c386940>"
      ]
     },
     "metadata": {},
     "output_type": "display_data"
    }
   ],
   "source": [
    "# use percentiles\n",
    "\n",
    "boot = pd.DataFrame()\n",
    "for m in modes:\n",
    "    boot[m] = bootstrap_mean(adds[m], 1000)\n",
    "mean = boot.mean()\n",
    "err = []\n",
    "err.append((boot.apply(lambda x : np.percentile(x, (5))) - mean).abs())\n",
    "err.append(boot.apply(lambda x : np.percentile(x, (95))) - mean)\n",
    "plt.errorbar(mean, [0,1,2], xerr=err, fmt='o-',linestyle='none', ecolor=['red','blue','green'], elinewidth=3, markersize=7 )\n",
    "plt.yticks([0,1,2], mean.index, size='large')\n",
    "plt.title('Average number of colleges added', size='x-large')\n",
    "# plt.show()\n",
    "plt.savefig('results/add.png', bbox_inches='tight')"
   ]
  },
  {
   "cell_type": "code",
   "execution_count": 23,
   "metadata": {},
   "outputs": [
    {
     "name": "stdout",
     "output_type": "stream",
     "text": [
      "List 9.133333333333333\n",
      "Category 93.125\n",
      "Pairwise 13.875\n",
      "[   5.    8.   12.    2.   11.    7.   21.   10.    5.    5.   13.   15.\n",
      "    5.   10.    8.   12.   41.   85.    3.   48.   22.  254.   94.   12.\n",
      "  231.  313.   10.  325.   15.   13.   12.    2.   16.   17.    6.    4.\n",
      "    8.    9.   29.   31.   26.    2.   20.   12.   15.   17.    8.]\n",
      "76.6487641559\n"
     ]
    }
   ],
   "source": [
    "all =[]\n",
    "for m in modes:\n",
    "    print(m, adds[m].mean())\n",
    "    all = np.append(all, adds[m])\n",
    "\n",
    "print(all)\n",
    "print(np.std(all))"
   ]
  },
  {
   "cell_type": "code",
   "execution_count": null,
   "metadata": {
    "collapsed": true
   },
   "outputs": [],
   "source": []
  },
  {
   "cell_type": "code",
   "execution_count": 16,
   "metadata": {},
   "outputs": [
    {
     "data": {
      "text/plain": [
       "array(['LOW ADD', 'HIGH ADD', 'ADD', 'SUBMIT SUCCESFUL', nan, 'QUESTION',\n",
       "       'MED ADD', 'MED REMOVE', 'RANK', 'LEFT ADD', 'RIGHT ADD',\n",
       "       'LOW REMOVE', 'RIGHT REMOVE', 'NEW PAIR', 'REMOVE', 'PREVIOUS',\n",
       "       'FINISH TEST', 'SUBMIT FAIL', 'SORT', 'LEFT REMOVE', 'FINISH',\n",
       "       'SHUFFLE', 'HIGH REMOVE'], dtype=object)"
      ]
     },
     "execution_count": 16,
     "metadata": {},
     "output_type": "execute_result"
    }
   ],
   "source": [
    "# count number of time switching between build and explore\n",
    "res['interaction'].unique()"
   ]
  },
  {
   "cell_type": "code",
   "execution_count": null,
   "metadata": {
    "collapsed": true
   },
   "outputs": [],
   "source": []
  },
  {
   "cell_type": "code",
   "execution_count": 17,
   "metadata": {},
   "outputs": [
    {
     "data": {
      "text/html": [
       "<div>\n",
       "<style>\n",
       "    .dataframe thead tr:only-child th {\n",
       "        text-align: right;\n",
       "    }\n",
       "\n",
       "    .dataframe thead th {\n",
       "        text-align: left;\n",
       "    }\n",
       "\n",
       "    .dataframe tbody tr th {\n",
       "        vertical-align: top;\n",
       "    }\n",
       "</style>\n",
       "<table border=\"1\" class=\"dataframe\">\n",
       "  <thead>\n",
       "    <tr style=\"text-align: right;\">\n",
       "      <th></th>\n",
       "      <th>workerId</th>\n",
       "    </tr>\n",
       "    <tr>\n",
       "      <th>mode</th>\n",
       "      <th></th>\n",
       "    </tr>\n",
       "  </thead>\n",
       "  <tbody>\n",
       "    <tr>\n",
       "      <th>Category</th>\n",
       "      <td>16</td>\n",
       "    </tr>\n",
       "    <tr>\n",
       "      <th>List</th>\n",
       "      <td>15</td>\n",
       "    </tr>\n",
       "    <tr>\n",
       "      <th>Pairwise</th>\n",
       "      <td>15</td>\n",
       "    </tr>\n",
       "  </tbody>\n",
       "</table>\n",
       "</div>"
      ],
      "text/plain": [
       "          workerId\n",
       "mode              \n",
       "Category        16\n",
       "List            15\n",
       "Pairwise        15"
      ]
     },
     "execution_count": 17,
     "metadata": {},
     "output_type": "execute_result"
    }
   ],
   "source": [
    "df =res.drop_duplicates(subset=['workerId'])\n",
    "counts = df[['workerId', 'mode']].groupby(['mode']).count()\n",
    "counts"
   ]
  },
  {
   "cell_type": "code",
   "execution_count": 18,
   "metadata": {},
   "outputs": [
    {
     "data": {
      "text/plain": [
       "15"
      ]
     },
     "execution_count": 18,
     "metadata": {},
     "output_type": "execute_result"
    }
   ],
   "source": [
    "counts['workerId']['List']"
   ]
  },
  {
   "cell_type": "code",
   "execution_count": 19,
   "metadata": {},
   "outputs": [
    {
     "name": "stdout",
     "output_type": "stream",
     "text": [
      "List\n",
      "interaction    0.203704\n",
      "dtype: float64\n",
      "Category\n",
      "interaction    0.076923\n",
      "dtype: float64\n",
      "Pairwise\n",
      "interaction    0.277778\n",
      "dtype: float64\n"
     ]
    }
   ],
   "source": [
    "for m in modes:\n",
    "    df = res[res['mode'] == m]\n",
    "    c = df[df['interaction']=='PREVIOUS'][['workerId','interaction']].groupby('workerId').count()\n",
    "    # get total number \n",
    "    num = c.shape[0]\n",
    "    # adjust average to include those who don't ever iterate\n",
    "    print(m)\n",
    "    print(c.mean() / (counts['workerId']['List'] - num))"
   ]
  },
  {
   "cell_type": "code",
   "execution_count": null,
   "metadata": {
    "collapsed": true
   },
   "outputs": [],
   "source": []
  },
  {
   "cell_type": "code",
   "execution_count": null,
   "metadata": {
    "collapsed": true
   },
   "outputs": [],
   "source": []
  }
 ],
 "metadata": {
  "anaconda-cloud": {},
  "kernelspec": {
   "display_name": "Python 3",
   "language": "python",
   "name": "python3"
  },
  "language_info": {
   "codemirror_mode": {
    "name": "ipython",
    "version": 3
   },
   "file_extension": ".py",
   "mimetype": "text/x-python",
   "name": "python",
   "nbconvert_exporter": "python",
   "pygments_lexer": "ipython3",
   "version": "3.6.3"
  }
 },
 "nbformat": 4,
 "nbformat_minor": 2
}
