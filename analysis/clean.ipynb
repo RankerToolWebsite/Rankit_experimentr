{
 "cells": [
  {
   "cell_type": "code",
   "execution_count": 4,
   "metadata": {
    "collapsed": true
   },
   "outputs": [],
   "source": [
    "import pandas as pd\n",
    "import numpy as np\n",
    "import matplotlib.pyplot as plt\n",
    "from sklearn.utils import resample\n",
    "%matplotlib inline"
   ]
  },
  {
   "cell_type": "code",
   "execution_count": 5,
   "metadata": {
    "collapsed": true
   },
   "outputs": [],
   "source": [
    "df = pd.read_json(\"results/data.json\")"
   ]
  },
  {
   "cell_type": "code",
   "execution_count": 6,
   "metadata": {},
   "outputs": [
    {
     "data": {
      "text/plain": [
       "(46, 30)"
      ]
     },
     "execution_count": 6,
     "metadata": {},
     "output_type": "execute_result"
    }
   ],
   "source": [
    "# Study1\n",
    "# workers = pd.read_csv(\"results/Batch_3343592_results.csv\")\n",
    "\n",
    "# Study2\n",
    "workers = pd.read_csv(\"results/Batch_3355878_results.csv\")\n",
    "workers = pd.concat([workers,pd.read_csv(\"results/Batch_3368637_batch_results.csv\")])\n",
    "workers = pd.concat([workers,pd.read_csv(\"results/Batch_3369526_batch_results.csv\")])\n",
    "\n",
    "workers.shape"
   ]
  },
  {
   "cell_type": "code",
   "execution_count": 7,
   "metadata": {},
   "outputs": [
    {
     "data": {
      "text/plain": [
       "array(['HITId', 'HITTypeId', 'Title', 'Description', 'Keywords', 'Reward',\n",
       "       'CreationTime', 'MaxAssignments', 'RequesterAnnotation',\n",
       "       'AssignmentDurationInSeconds', 'AutoApprovalDelayInSeconds',\n",
       "       'Expiration', 'NumberOfSimilarHITs', 'LifetimeInSeconds',\n",
       "       'AssignmentId', 'WorkerId', 'AssignmentStatus', 'AcceptTime',\n",
       "       'SubmitTime', 'AutoApprovalTime', 'ApprovalTime', 'RejectionTime',\n",
       "       'RequesterFeedback', 'WorkTimeInSeconds', 'LifetimeApprovalRate',\n",
       "       'Last30DaysApprovalRate', 'Last7DaysApprovalRate',\n",
       "       'Answer.surveycode', 'Approve', 'Reject'], dtype=object)"
      ]
     },
     "execution_count": 7,
     "metadata": {},
     "output_type": "execute_result"
    }
   ],
   "source": [
    "workers.columns.values"
   ]
  },
  {
   "cell_type": "code",
   "execution_count": 8,
   "metadata": {},
   "outputs": [
    {
     "data": {
      "text/plain": [
       "(46, 3)"
      ]
     },
     "execution_count": 8,
     "metadata": {},
     "output_type": "execute_result"
    }
   ],
   "source": [
    "workers = workers[workers['WorkerId'] != 'A1V2H0UF94ATWY'][['WorkerId', 'WorkTimeInSeconds', 'Answer.surveycode']]\n",
    "workers.shape"
   ]
  },
  {
   "cell_type": "code",
   "execution_count": 9,
   "metadata": {},
   "outputs": [
    {
     "data": {
      "text/plain": [
       "43.899999999999999"
      ]
     },
     "execution_count": 9,
     "metadata": {},
     "output_type": "execute_result"
    }
   ],
   "source": [
    "# average time working\n",
    "workers['WorkTimeInSeconds'].max()/60"
   ]
  },
  {
   "cell_type": "code",
   "execution_count": 10,
   "metadata": {},
   "outputs": [
    {
     "data": {
      "text/plain": [
       "array(['UrlChanges', 'comments', 'highUrlChanges', 'interaction',\n",
       "       'lowUrlChanges', 'medUrlChanges', 'mode', 'model', 'pop_time',\n",
       "       'postId', 'question1', 'question2', 'question3', 'question4',\n",
       "       'question5', 'response', 'time_diff_build', 'time_diff_experiment',\n",
       "       'time_diff_explore', 'time_diff_strategy', 'time_diff_training',\n",
       "       'time_end_build', 'time_end_experiment', 'time_end_explore',\n",
       "       'time_end_strategy', 'time_end_training', 'time_start_build',\n",
       "       'time_start_experiment', 'time_start_explore',\n",
       "       'time_start_strategy', 'time_start_training', 'timestamp',\n",
       "       'workerId'], dtype=object)"
      ]
     },
     "execution_count": 10,
     "metadata": {},
     "output_type": "execute_result"
    }
   ],
   "source": [
    "df.columns.values"
   ]
  },
  {
   "cell_type": "code",
   "execution_count": 11,
   "metadata": {
    "collapsed": true
   },
   "outputs": [],
   "source": [
    "# check provided survey codes against postIds in system\n",
    "# res[res['interaction'] == 'SUBMIT SUCCESFUL'][ids].sort_values('workerId')"
   ]
  },
  {
   "cell_type": "code",
   "execution_count": 12,
   "metadata": {
    "collapsed": true
   },
   "outputs": [],
   "source": [
    "# # results for rejected worker\n",
    "# df[df['workerId'] == 'A1V2H0UF94ATWY'].sort_values('timestamp', ascending=False)[qs]\n"
   ]
  },
  {
   "cell_type": "code",
   "execution_count": 13,
   "metadata": {
    "collapsed": true,
    "scrolled": false
   },
   "outputs": [],
   "source": [
    "# for q in ['question1', 'question2', 'question3', 'question4', 'question5']:\n",
    "#     res[qs].dropna(subset=[q]).plot.bar(x = [-2, -1, 0, 1, 2], y=q)"
   ]
  },
  {
   "cell_type": "code",
   "execution_count": 14,
   "metadata": {},
   "outputs": [
    {
     "data": {
      "text/plain": [
       "(46,)"
      ]
     },
     "execution_count": 14,
     "metadata": {},
     "output_type": "execute_result"
    }
   ],
   "source": [
    "# get only results of approved workers\n",
    "ws = workers['WorkerId'].drop_duplicates().sort_values()\n",
    "ws.shape"
   ]
  },
  {
   "cell_type": "code",
   "execution_count": 15,
   "metadata": {
    "collapsed": true
   },
   "outputs": [],
   "source": [
    "# get only results for approved workers\n",
    "res = df[df['workerId'].isin(ws)]"
   ]
  },
  {
   "cell_type": "code",
   "execution_count": 16,
   "metadata": {},
   "outputs": [
    {
     "data": {
      "text/plain": [
       "(3606, 33)"
      ]
     },
     "execution_count": 16,
     "metadata": {},
     "output_type": "execute_result"
    }
   ],
   "source": [
    "res.shape"
   ]
  },
  {
   "cell_type": "code",
   "execution_count": 17,
   "metadata": {},
   "outputs": [
    {
     "name": "stdout",
     "output_type": "stream",
     "text": [
      "(3606, 33)\n",
      "(3394, 33)\n"
     ]
    }
   ],
   "source": [
    "res.to_csv(\"results/results_cleaned.csv\")\n",
    "\n",
    "# remove outlier\n",
    "# res[res['time_diff_experiment'] == res['time_diff_experiment'].max()]\n",
    "print(res.shape)\n",
    "reso = res[res['workerId'] != 'A22012GC5JSH0C']\n",
    "print(reso.shape)\n",
    "reso.to_csv(\"results/results_cleaned_no_outliers.csv\")"
   ]
  },
  {
   "cell_type": "code",
   "execution_count": 18,
   "metadata": {},
   "outputs": [
    {
     "data": {
      "text/plain": [
       "(46, 33)"
      ]
     },
     "execution_count": 18,
     "metadata": {},
     "output_type": "execute_result"
    }
   ],
   "source": [
    "res.drop_duplicates('workerId').shape"
   ]
  },
  {
   "cell_type": "code",
   "execution_count": 19,
   "metadata": {
    "scrolled": false
   },
   "outputs": [
    {
     "name": "stdout",
     "output_type": "stream",
     "text": [
      "I based the rankings on how well known the college was and what the college's rank usually is.\n",
      "I ranked colleges I didn't know the location of into medium. I ranked colleges in liberal hellholes with high probability of SJW commie professors and classmates low. I ranked conservative area colleges high because there's a lower likelihood (but still existent) of getting marxist brainwashing.\n",
      "I was mostly interested in Technology schools so I chose the ones that I found that had the highest rank and also were the most reputable.\n",
      "I picked the two I knew something about\n",
      "I tried to add colleges that I was fond of. However, trying to sort through the rankings was confusing. Didn't see my choices highlighted. \n",
      "perfec\n",
      "i chose colleges in states i love as my highest priority. second were colleges i have either heard of or colleges that are well known and ranked previously. in the low category i put colleges that are in states i would never want to go to.\n",
      "I thought of those I considered the more amazing schools, and then moved down to those I was more familiar with.\n",
      "picked my top favorites first and put them on the left side, then chose next favorites after those and put them on the right side ,after reading the stats of my picks\n",
      "I leveraged what i know about them and their ranking\n",
      "I picked the two I knew something about\n",
      "I already had a good idea of what I want in a college before I started it. I went to a small, private college and stayed away from bigger, massive universities. Most, if not all, of these colleges are very big. So I couldn't easily rank them by that (my college you could walk across campus in 10 minutes, slow walking!). That said, I tended to rank the best ones in cooler weather climates (I hate warm/hot weather). So you won't see anything in Florida on my list. I'm also very liberal, so I try to avoid conservative places (though I did rank some higher that are in conservative states due to their liberal town setting). I also went more for some of the colleges that are lesser known, but still really good (i.e.- Clark University). I would fit in better places like that. So that was my general strategy! Fun HIT!\n",
      "I wanted to compare colleges that I thought were similar, and that have interactions with each other. I also wanted to make one of the sides clearly larger to not skew results. I wanted to really get a sense of the full spectrum. I felt in this way it would broaden the rankings for me.\n",
      "i chose colleges in states i love as my highest priority. second were colleges i have either heard of or colleges that are well known and ranked previously. in the low category i put colleges that are in states i would never want to go to.\n",
      "In the colleges are need to compare them self to the other college. all of the colleges wanted to the rank. The ranking system is generated by the reflection of the personal preference about colleges.\n",
      "this colleges accurate rank conversation\n",
      "I ranked based on schools I wanted to attend. \n",
      "i was looking for top schools, plain and simple\n",
      "I used the US rankings\n",
      "i was looking for top schools, plain and simple\n",
      "i used the high rating statergy\n",
      "I went by name, state, city. I know all the top schools so I placed them in the high category. The state universities also went into the high category. The city universities went into medium and the small local ones went into low.\n",
      "Just wanted to include all the colleges I looked at as a high school senior as well as premed and then as a grad school applicant. It has my alma maters and that's all that matters.i think they us world news report ranking was closer than the default ranking which was significantly different from my own ranking.(This interface is not easy to use or seemed to be helpful)\n",
      "What I know about the colleges.\n",
      "I ranked based on what I have heard about different schools, seen on the news and athletics wise. Also from my most to least favorite.\n",
      "I ranked based on prestige colleges\n",
      "I looked at the list of schools and tried to find ones that I was interested and would like.\n",
      "i was looking for top schools, plain and simple\n",
      "In the colleges are need to compare them self to the other college. all of the colleges wanted to the rank. The ranking system is generated by the reflection of the personal preference about colleges.\n",
      "I was trying to find colleges I was familiar with and knew were already prestigious. I chose mostly on familiarity.\n",
      "I ranked all of the ivy leagues at the top but the final ranking that was displayed didn't show any of the ivy leagues near the top which was confusing as it didn't seem to matter how I ranked schools as the shown ranking didn't seem to take into account the fact that I ranked all the ivy leagues as the best. \n",
      "I went by name, state, city. I know all the top schools so I placed them in the high category. The state universities also went into the high category. The city universities went into medium and the small local ones went into low.\n",
      "this colleges accurate rank conversation\n",
      "I wanted to compare colleges that I thought were similar, and that have interactions with each other. I also wanted to make one of the sides clearly larger to not skew results. I wanted to really get a sense of the full spectrum. I felt in this way it would broaden the rankings for me.\n",
      "I leveraged what i know about them and their ranking\n",
      "I tried to add colleges that I was fond of. However, trying to sort through the rankings was confusing. Didn't see my choices highlighted. \n",
      "according to the national rank\n",
      "Personal experience or based on what information I knew about them.\n",
      "I wanted to compare colleges that I thought were similar, and that have interactions with each other. I also wanted to make one of the sides clearly larger to not skew results. I wanted to really get a sense of the full spectrum. I felt in this way it would broaden the rankings for me.\n",
      "I ranked the colleges I knew I would like to physically attend based on the look of the campus and where in the US it was located. I selected the universities I knew a lot about and knew I would be interested in attending.\n",
      "I was looking for a particular major.  \n",
      "I went with schools that were not overly expensive while also being highly regarded within the state. State schools would generally be on the lower end as they were generally expensive and not the best for students\n",
      "i chose colleges in states i love as my highest priority. second were colleges i have either heard of or colleges that are well known and ranked previously. in the low category i put colleges that are in states i would never want to go to.\n",
      "Close to home, or ones in areas I would like to go.  Most of the colleges I actually wanted to go to weren't listed.\n",
      "I ranked my colleges based the US News Ranks and their elite status. \n",
      "I was mostly interested in Technology schools so I chose the ones that I found that had the highest rank and also were the most reputable.\n",
      "according to the national rank\n",
      "I ranked them High, Medium, and Low based on the ranking they were given by the third party ranking.\n",
      "1-50 was high. 51-100 was medium. 100+ was all low.\n",
      "Personal experience or based on what information I knew about them.\n",
      "I was mostly interested in Technology schools so I chose the ones that I found that had the highest rank and also were the most reputable.\n",
      "Personal experience or based on what information I knew about them.\n",
      "I looked at ones I was familiar with, plus some places I would like to live.  Then I looked at ranking plus tuition.\n",
      "I looked at ones I was familiar with, plus some places I would like to live.  Then I looked at ranking plus tuition.\n",
      "academics, prestige, and sports \n",
      "perfec\n",
      "I ranked my colleges based the US News Ranks and their elite status. \n",
      "Close to home, or ones in areas I would like to go.  Most of the colleges I actually wanted to go to weren't listed.\n",
      "i made by my opinion \n",
      "I picked the two I knew something about\n",
      "because the are poor listen\n",
      "according to the national rank\n",
      "i used the high rating statergy\n",
      "i chose colleges in states i love as my highest priority. second were colleges i have either heard of or colleges that are well known and ranked previously. in the low category i put colleges that are in states i would never want to go to.\n",
      "What I know about the colleges.\n",
      "Close to home, or ones in areas I would like to go.  Most of the colleges I actually wanted to go to weren't listed.\n",
      "I went with schools that were not overly expensive while also being highly regarded within the state. State schools would generally be on the lower end as they were generally expensive and not the best for students\n",
      "I based the rankings on how well known the college was and what the college's rank usually is.\n",
      "I ranked colleges that I was personally familiar with. I think there needs to be more data for each college like graduation rate and tuition rates.\n",
      "\n",
      "I was mostly interested in Technology schools so I chose the ones that I found that had the highest rank and also were the most reputable.\n",
      "Just wanted to include all the colleges I looked at as a high school senior as well as premed and then as a grad school applicant. It has my alma maters and that's all that matters.i think they us world news report ranking was closer than the default ranking which was significantly different from my own ranking.(This interface is not easy to use or seemed to be helpful)\n",
      "I already had a good idea of what I want in a college before I started it. I went to a small, private college and stayed away from bigger, massive universities. Most, if not all, of these colleges are very big. So I couldn't easily rank them by that (my college you could walk across campus in 10 minutes, slow walking!). That said, I tended to rank the best ones in cooler weather climates (I hate warm/hot weather). So you won't see anything in Florida on my list. I'm also very liberal, so I try to avoid conservative places (though I did rank some higher that are in conservative states due to their liberal town setting). I also went more for some of the colleges that are lesser known, but still really good (i.e.- Clark University). I would fit in better places like that. So that was my general strategy! Fun HIT!\n",
      "I used the US rankings\n",
      "I tried to focus on colleges near my area (Chicago) and more famous universities like Harvard. These are the institutions I know the most about.\n",
      "I was trying to find colleges I was familiar with and knew were already prestigious. I chose mostly on familiarity.\n",
      "I ranked colleges that I was personally familiar with. I think there needs to be more data for each college like graduation rate and tuition rates.\n",
      "Just wanted to include all the colleges I looked at as a high school senior as well as premed and then as a grad school applicant. It has my alma maters and that's all that matters.i think they us world news report ranking was closer than the default ranking which was significantly different from my own ranking.(This interface is not easy to use or seemed to be helpful)\n",
      "I went by name, state, city. I know all the top schools so I placed them in the high category. The state universities also went into the high category. The city universities went into medium and the small local ones went into low.\n",
      "I was looking for a particular major.  \n",
      "I already had a good idea of what I want in a college before I started it. I went to a small, private college and stayed away from bigger, massive universities. Most, if not all, of these colleges are very big. So I couldn't easily rank them by that (my college you could walk across campus in 10 minutes, slow walking!). That said, I tended to rank the best ones in cooler weather climates (I hate warm/hot weather). So you won't see anything in Florida on my list. I'm also very liberal, so I try to avoid conservative places (though I did rank some higher that are in conservative states due to their liberal town setting). I also went more for some of the colleges that are lesser known, but still really good (i.e.- Clark University). I would fit in better places like that. So that was my general strategy! Fun HIT!\n",
      "This was really difficult to understand\n",
      "I ranked based on prestige colleges\n",
      "Just wanted to include all the colleges I looked at as a high school senior as well as premed and then as a grad school applicant. It has my alma maters and that's all that matters.i think they us world news report ranking was closer than the default ranking which was significantly different from my own ranking.(This interface is not easy to use or seemed to be helpful)\n",
      "I tried to focus on colleges near my area (Chicago) and more famous universities like Harvard. These are the institutions I know the most about.\n",
      "Personal experience or based on what information I knew about them.\n",
      "i was looking for top schools, plain and simple\n",
      "I ranked colleges I didn't know the location of into medium. I ranked colleges in liberal hellholes with high probability of SJW commie professors and classmates low. I ranked conservative area colleges high because there's a lower likelihood (but still existent) of getting marxist brainwashing.\n",
      "I was trying to find colleges I was familiar with and knew were already prestigious. I chose mostly on familiarity.\n",
      "I ranked colleges that I was personally familiar with. I think there needs to be more data for each college like graduation rate and tuition rates.\n",
      "this colleges accurate rank conversation\n",
      "I ranked based on prestige colleges\n",
      "because the are poor listen\n",
      "picked my top favorites first and put them on the left side, then chose next favorites after those and put them on the right side ,after reading the stats of my picks\n",
      "i made by my opinion \n",
      "i chose colleges in states i love as my highest priority. second were colleges i have either heard of or colleges that are well known and ranked previously. in the low category i put colleges that are in states i would never want to go to.\n",
      "i used the high rating statergy\n",
      "i chose colleges in states i love as my highest priority. second were colleges i have either heard of or colleges that are well known and ranked previously. in the low category i put colleges that are in states i would never want to go to.\n",
      "picked my top favorites first and put them on the left side, then chose next favorites after those and put them on the right side ,after reading the stats of my picks\n",
      "I ranked based on schools I wanted to attend. \n",
      "i chose colleges in states i love as my highest priority. second were colleges i have either heard of or colleges that are well known and ranked previously. in the low category i put colleges that are in states i would never want to go to.\n",
      "I went with schools that were not overly expensive while also being highly regarded within the state. State schools would generally be on the lower end as they were generally expensive and not the best for students\n",
      "I was trying to find colleges I was familiar with and knew were already prestigious. I chose mostly on familiarity.\n",
      "i chose colleges in states i love as my highest priority. second were colleges i have either heard of or colleges that are well known and ranked previously. in the low category i put colleges that are in states i would never want to go to.\n",
      "I picked the two I knew something about\n",
      "Just wanted to include all the colleges I looked at as a high school senior as well as premed and then as a grad school applicant. It has my alma maters and that's all that matters.i think they us world news report ranking was closer than the default ranking which was significantly different from my own ranking.(This interface is not easy to use or seemed to be helpful)\n",
      "I tried to add colleges that I was fond of. However, trying to sort through the rankings was confusing. Didn't see my choices highlighted. \n",
      "This was really difficult to understand\n",
      "i made by my opinion \n",
      "according to the national rank\n",
      "I ranked them High, Medium, and Low based on the ranking they were given by the third party ranking.\n",
      "1-50 was high. 51-100 was medium. 100+ was all low.\n",
      "i made by my opinion \n",
      "I just picked a bunch of colleges that have interested me in the past. I tried to rank similar colleges.\n",
      "I ranked the colleges I knew I would like to physically attend based on the look of the campus and where in the US it was located. I selected the universities I knew a lot about and knew I would be interested in attending.\n",
      "I went by name, state, city. I know all the top schools so I placed them in the high category. The state universities also went into the high category. The city universities went into medium and the small local ones went into low.\n",
      "I ranked colleges I didn't know the location of into medium. I ranked colleges in liberal hellholes with high probability of SJW commie professors and classmates low. I ranked conservative area colleges high because there's a lower likelihood (but still existent) of getting marxist brainwashing.\n",
      "according to the national rank\n",
      "I went by the colleges i actually knew something about. i live in LA so i know tulane and LSU are good. i grew up in upstate NY so i know albany and binghamton are decent. and i put a few i had never heard of in the last category.\n",
      "academics, prestige, and sports \n",
      "I saw the US rank and I know some of the top rated colleges. These are my strategies for selecting the colleges\n",
      "i used the high rating statergy\n",
      "I put in all the colleges I knew and how I thought they compared. \n",
      "i was looking for top schools, plain and simple\n",
      "I would choose pairs of colleges that I was familiar with and marked them high and low. After making my pairs, I would navigate the ranking page and look for my preferred colleges. When I found the rankings, I would compare the statistics with colleges that ranked higher and lower than the chosen one.\n",
      "I saw the US rank and I know some of the top rated colleges. These are my strategies for selecting the colleges\n",
      "I ranked based on prestige colleges\n",
      "i chose colleges in states i love as my highest priority. second were colleges i have either heard of or colleges that are well known and ranked previously. in the low category i put colleges that are in states i would never want to go to.\n",
      "What I know about the colleges.\n",
      "I just picked a bunch of colleges that have interested me in the past. I tried to rank similar colleges.\n",
      "perfec\n",
      "I ranked all of the ivy leagues at the top but the final ranking that was displayed didn't show any of the ivy leagues near the top which was confusing as it didn't seem to matter how I ranked schools as the shown ranking didn't seem to take into account the fact that I ranked all the ivy leagues as the best. \n",
      "In the colleges are need to compare them self to the other college. all of the colleges wanted to the rank. The ranking system is generated by the reflection of the personal preference about colleges.\n",
      "In the colleges are need to compare them self to the other college. all of the colleges wanted to the rank. The ranking system is generated by the reflection of the personal preference about colleges.\n",
      "I ranked my colleges based the US News Ranks and their elite status. \n",
      "I thought of those I considered the more amazing schools, and then moved down to those I was more familiar with.\n",
      "I ranked based on schools I wanted to attend. \n",
      "I would choose pairs of colleges that I was familiar with and marked them high and low. After making my pairs, I would navigate the ranking page and look for my preferred colleges. When I found the rankings, I would compare the statistics with colleges that ranked higher and lower than the chosen one.\n",
      "I ranked colleges I didn't know the location of into medium. I ranked colleges in liberal hellholes with high probability of SJW commie professors and classmates low. I ranked conservative area colleges high because there's a lower likelihood (but still existent) of getting marxist brainwashing.\n",
      "I tried to add colleges that I was fond of. However, trying to sort through the rankings was confusing. Didn't see my choices highlighted. \n",
      "I went by the colleges i actually knew something about. i live in LA so i know tulane and LSU are good. i grew up in upstate NY so i know albany and binghamton are decent. and i put a few i had never heard of in the last category.\n",
      "This was really difficult to understand\n",
      "In the colleges are need to compare them self to the other college. all of the colleges wanted to the rank. The ranking system is generated by the reflection of the personal preference about colleges.\n",
      "I would choose pairs of colleges that I was familiar with and marked them high and low. After making my pairs, I would navigate the ranking page and look for my preferred colleges. When I found the rankings, I would compare the statistics with colleges that ranked higher and lower than the chosen one.\n",
      "i used the high rating statergy\n",
      "I based the rankings on how well known the college was and what the college's rank usually is.\n",
      "I went by name, state, city. I know all the top schools so I placed them in the high category. The state universities also went into the high category. The city universities went into medium and the small local ones went into low.\n",
      "I looked at the list of schools and tried to find ones that I was interested and would like.\n",
      "this colleges accurate rank conversation\n",
      "I ranked all of the ivy leagues at the top but the final ranking that was displayed didn't show any of the ivy leagues near the top which was confusing as it didn't seem to matter how I ranked schools as the shown ranking didn't seem to take into account the fact that I ranked all the ivy leagues as the best. \n",
      "I based the rankings on how well known the college was and what the college's rank usually is.\n",
      "I based the rankings on how well known the college was and what the college's rank usually is.\n",
      "academics, prestige, and sports \n",
      "I ranked colleges I didn't know the location of into medium. I ranked colleges in liberal hellholes with high probability of SJW commie professors and classmates low. I ranked conservative area colleges high because there's a lower likelihood (but still existent) of getting marxist brainwashing.\n",
      "I went by the colleges i actually knew something about. i live in LA so i know tulane and LSU are good. i grew up in upstate NY so i know albany and binghamton are decent. and i put a few i had never heard of in the last category.\n",
      "I tried to focus on colleges near my area (Chicago) and more famous universities like Harvard. These are the institutions I know the most about.\n",
      "I looked at the list of schools and tried to find ones that I was interested and would like.\n",
      "I wanted to compare colleges that I thought were similar, and that have interactions with each other. I also wanted to make one of the sides clearly larger to not skew results. I wanted to really get a sense of the full spectrum. I felt in this way it would broaden the rankings for me.\n",
      "I leveraged what i know about them and their ranking\n",
      "because the are poor listen\n",
      "I ranked based on prestige colleges\n",
      "I saw the US rank and I know some of the top rated colleges. These are my strategies for selecting the colleges\n",
      "I looked at the list of schools and tried to find ones that I was interested and would like.\n",
      "I wanted to compare colleges that I thought were similar, and that have interactions with each other. I also wanted to make one of the sides clearly larger to not skew results. I wanted to really get a sense of the full spectrum. I felt in this way it would broaden the rankings for me.\n",
      "Just wanted to include all the colleges I looked at as a high school senior as well as premed and then as a grad school applicant. It has my alma maters and that's all that matters.i think they us world news report ranking was closer than the default ranking which was significantly different from my own ranking.(This interface is not easy to use or seemed to be helpful)\n",
      "this colleges accurate rank conversation\n",
      "\n",
      "I looked at ones I was familiar with, plus some places I would like to live.  Then I looked at ranking plus tuition.\n",
      "I used the US rankings\n",
      "I put in all the colleges I knew and how I thought they compared. \n",
      "I went by the colleges i actually knew something about. i live in LA so i know tulane and LSU are good. i grew up in upstate NY so i know albany and binghamton are decent. and i put a few i had never heard of in the last category.\n",
      "I looked at the list of schools and tried to find ones that I was interested and would like.\n",
      "I looked at ones I was familiar with, plus some places I would like to live.  Then I looked at ranking plus tuition.\n"
     ]
    }
   ],
   "source": [
    "# print open ended responses\n",
    "for i in res['response'].dropna():\n",
    "    print(i)\n",
    "\n",
    "# collect open ended responses\n",
    "res['response'].dropna().to_csv(\"results/open_ended_responses.csv\")"
   ]
  },
  {
   "cell_type": "code",
   "execution_count": null,
   "metadata": {
    "collapsed": true
   },
   "outputs": [],
   "source": []
  }
 ],
 "metadata": {
  "anaconda-cloud": {},
  "kernelspec": {
   "display_name": "Python 3",
   "language": "python",
   "name": "python3"
  },
  "language_info": {
   "codemirror_mode": {
    "name": "ipython",
    "version": 3
   },
   "file_extension": ".py",
   "mimetype": "text/x-python",
   "name": "python",
   "nbconvert_exporter": "python",
   "pygments_lexer": "ipython3",
   "version": "3.6.3"
  }
 },
 "nbformat": 4,
 "nbformat_minor": 2
}
